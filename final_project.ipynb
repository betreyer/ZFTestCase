{
 "cells": [
  {
   "cell_type": "code",
   "execution_count": null,
   "id": "5569614b",
   "metadata": {},
   "outputs": [],
   "source": [
    "pip install geopy\n"
   ]
  },
  {
   "cell_type": "code",
   "execution_count": 1,
   "id": "39a5d8a9",
   "metadata": {},
   "outputs": [],
   "source": [
    "import pandas as pd \n",
    "import numpy as np \n",
    "import math \n",
    "import os\n",
    "import datetime\n",
    "from datetime import date, datetime, timedelta\n",
    "import re\n",
    "import ast\n",
    "import geopy\n",
    "from geopy import distance\n",
    "\n",
    "from geopy.geocoders import Nominatim\n"
   ]
  },
  {
   "cell_type": "markdown",
   "id": "499a111c",
   "metadata": {},
   "source": [
    "## 1.Checking dimensions tables."
   ]
  },
  {
   "cell_type": "code",
   "execution_count": 2,
   "id": "1fa3d07f",
   "metadata": {},
   "outputs": [],
   "source": [
    "dimension_table = pd.read_excel('Inputs/User Details.xlsx', sheet_name = None,  parse_dates=True )"
   ]
  },
  {
   "cell_type": "code",
   "execution_count": 3,
   "id": "54b6cf39",
   "metadata": {
    "scrolled": false
   },
   "outputs": [
    {
     "name": "stdout",
     "output_type": "stream",
     "text": [
      "---------------------------------------------------------------------------------------\n",
      "Accounts\n",
      "---------------------------------------------------------------------------------------\n",
      "   AccountID AccountName\n",
      "0         55      AMDS 1\n",
      "1         25      AMDS 2\n",
      "2         71      AMDS 3\n",
      "3         58      AMDS 4\n",
      "4         48      AMDS 5\n",
      "5         81      AMDS 6\n",
      "6         25      AMDS 7\n",
      "7         61      AMDS 8\n",
      "8         26      AMDS 9\n",
      "---------------------------------------------------------------------------------------\n",
      "---------------------------------------------------------------------------------------\n",
      "Assets\n",
      "---------------------------------------------------------------------------------------\n",
      "   AssetID License Plate     Make Model  AccountID  Datasource  Tank Capacity\n",
      "0      362    GA-567-789   Renaut  R-1A         55      334455            100\n",
      "1      289    GA-123-456     Ford  F-2B         55      334456             90\n",
      "2      338    EU-234-567  Citroen  C-3C         55      334457            110\n",
      "3      485    AB-345-678   Renaut  R-2A         58      334458            120\n",
      "4      409    CA-456-789     Ford  F-3B         48      334459            100\n",
      "---------------------------------------------------------------------------------------\n"
     ]
    }
   ],
   "source": [
    "if 'pandas' in str(type(dimension_table)): \n",
    "    print(dimension_table)\n",
    "elif 'dict' in str(type(dimension_table)):\n",
    "    for dimension in dimension_table:\n",
    "        print('---------------------------------------------------------------------------------------')\n",
    "        print(dimension)\n",
    "        print('---------------------------------------------------------------------------------------')\n",
    "        print(dimension_table[dimension])\n",
    "        print('---------------------------------------------------------------------------------------')"
   ]
  },
  {
   "cell_type": "code",
   "execution_count": 4,
   "id": "bcc25f73",
   "metadata": {},
   "outputs": [],
   "source": [
    "accounts = dimension_table['Accounts']\n",
    "assets = dimension_table ['Assets']\n",
    "\n"
   ]
  },
  {
   "cell_type": "code",
   "execution_count": 5,
   "id": "d5939a16",
   "metadata": {
    "scrolled": true
   },
   "outputs": [
    {
     "name": "stdout",
     "output_type": "stream",
     "text": [
      "<class 'pandas.core.frame.DataFrame'>\n",
      "RangeIndex: 9 entries, 0 to 8\n",
      "Data columns (total 2 columns):\n",
      " #   Column       Non-Null Count  Dtype \n",
      "---  ------       --------------  ----- \n",
      " 0   AccountID    9 non-null      int64 \n",
      " 1   AccountName  9 non-null      object\n",
      "dtypes: int64(1), object(1)\n",
      "memory usage: 276.0+ bytes\n",
      "None\n",
      "--------------------------------------------\n",
      "1\n"
     ]
    }
   ],
   "source": [
    "print(accounts.info())\n",
    "print('--------------------------------------------')\n",
    "print(accounts.duplicated(subset='AccountID').sum())"
   ]
  },
  {
   "cell_type": "markdown",
   "id": "20282926",
   "metadata": {},
   "source": [
    "<b>So, there are duplicates</b> in primary key for Accounts table. Not good. Should be reported to developers. \n",
    "Can be resolved in many ways: \n",
    "- 1.Try to find out which AccountID should actually have each of accounts in alternative source of truth (if there is any), report to devs and to fix it for now as ad hoc. \n",
    "- 2. Drop duplicate (second one by default). \n",
    "- 3. To set it last existing id in current table +1 at least for now in case I need to calculate some stats in account table. \n",
    "\n",
    "Let's have a look on, probably, connected assets table though. \n",
    "\n",
    "Datatypes looks right. \n"
   ]
  },
  {
   "cell_type": "code",
   "execution_count": 6,
   "id": "65c196f6",
   "metadata": {},
   "outputs": [
    {
     "data": {
      "text/plain": [
       "5"
      ]
     },
     "execution_count": 6,
     "metadata": {},
     "output_type": "execute_result"
    }
   ],
   "source": [
    "assets.shape[0]"
   ]
  },
  {
   "cell_type": "code",
   "execution_count": 7,
   "id": "a1ef8b61",
   "metadata": {},
   "outputs": [
    {
     "name": "stdout",
     "output_type": "stream",
     "text": [
      "<class 'pandas.core.frame.DataFrame'>\n",
      "RangeIndex: 5 entries, 0 to 4\n",
      "Data columns (total 7 columns):\n",
      " #   Column         Non-Null Count  Dtype \n",
      "---  ------         --------------  ----- \n",
      " 0   AssetID        5 non-null      int64 \n",
      " 1   License Plate  5 non-null      object\n",
      " 2   Make           5 non-null      object\n",
      " 3   Model          5 non-null      object\n",
      " 4   AccountID      5 non-null      int64 \n",
      " 5   Datasource     5 non-null      int64 \n",
      " 6   Tank Capacity  5 non-null      int64 \n",
      "dtypes: int64(4), object(3)\n",
      "memory usage: 412.0+ bytes\n",
      "None\n",
      "\n",
      "AssetID          5\n",
      "License Plate    5\n",
      "Make             3\n",
      "Model            5\n",
      "AccountID        3\n",
      "Datasource       5\n",
      "Tank Capacity    4\n",
      "dtype: int64\n"
     ]
    }
   ],
   "source": [
    "print(assets.info())\n",
    "print()\n",
    "print(assets.nunique())"
   ]
  },
  {
   "cell_type": "code",
   "execution_count": 8,
   "id": "7bbfc85e",
   "metadata": {},
   "outputs": [],
   "source": [
    "def deduplicator(df, primary_keys): \n",
    "    if df.duplicated(subset = primary_keys).sum() > 0: \n",
    "        df.drop_duplicates(subset = primary_keys, inplace = True, ignore_index= True)\n",
    "        return None #todo: write amount of deduplicated rows in a list -part of dict, which will be then dict of metadata. "
   ]
  },
  {
   "cell_type": "code",
   "execution_count": 9,
   "id": "74d893b8",
   "metadata": {},
   "outputs": [],
   "source": [
    "deduplicator(accounts, 'AccountID')"
   ]
  },
  {
   "cell_type": "code",
   "execution_count": 10,
   "id": "acb86650",
   "metadata": {},
   "outputs": [],
   "source": [
    "deduplicator(assets, 'AssetID')"
   ]
  },
  {
   "cell_type": "code",
   "execution_count": 11,
   "id": "e66ab8b7",
   "metadata": {},
   "outputs": [],
   "source": [
    "def values_mapper(df, column_name, mapper):\n",
    "    new_col = column_name + '_fixed'\n",
    "    df[new_col] = df[column_name].map(mapper)\n",
    "    df[new_col] = df.apply(lambda x: x[column_name] if pd.isna(x[new_col]) else x[new_col], axis =1 )"
   ]
  },
  {
   "cell_type": "code",
   "execution_count": 12,
   "id": "e0af741b",
   "metadata": {},
   "outputs": [
    {
     "name": "stdout",
     "output_type": "stream",
     "text": [
      "   AssetID License Plate     Make Model  AccountID  Datasource  Tank Capacity  \\\n",
      "0      362    GA-567-789   Renaut  R-1A         55      334455            100   \n",
      "1      289    GA-123-456     Ford  F-2B         55      334456             90   \n",
      "2      338    EU-234-567  Citroen  C-3C         55      334457            110   \n",
      "3      485    AB-345-678   Renaut  R-2A         58      334458            120   \n",
      "4      409    CA-456-789     Ford  F-3B         48      334459            100   \n",
      "\n",
      "  Make_fixed  \n",
      "0    Renault  \n",
      "1       Ford  \n",
      "2    Citroen  \n",
      "3    Renault  \n",
      "4       Ford  \n"
     ]
    }
   ],
   "source": [
    "assets_fix = {'Renaut': 'Renault'}\n",
    "values_mapper(assets, 'Make', assets_fix)\n",
    "print(assets)\n",
    "              "
   ]
  },
  {
   "cell_type": "code",
   "execution_count": 13,
   "id": "b6ee5e1f",
   "metadata": {},
   "outputs": [],
   "source": [
    "assets.rename(columns = {'Make': \"maker\", 'Make_fixed': 'maker_fixed', 'AssetID': 'asset_id', \n",
    "                         'License Plate': 'license_plate', 'Model': 'model', 'AccountID':'account_id', \n",
    "                         'Datasource': 'data_source', 'Tank Capacity': 'tank_capacity'\n",
    "                        }, inplace = True)"
   ]
  },
  {
   "cell_type": "code",
   "execution_count": 14,
   "id": "535749eb",
   "metadata": {},
   "outputs": [],
   "source": [
    "accounts.rename(columns= {'AccountID': 'account_id', 'AccountName':'account_name'}, inplace = True)"
   ]
  },
  {
   "cell_type": "code",
   "execution_count": 15,
   "id": "f4ee1ce6",
   "metadata": {
    "scrolled": true
   },
   "outputs": [
    {
     "data": {
      "text/html": [
       "<div>\n",
       "<style scoped>\n",
       "    .dataframe tbody tr th:only-of-type {\n",
       "        vertical-align: middle;\n",
       "    }\n",
       "\n",
       "    .dataframe tbody tr th {\n",
       "        vertical-align: top;\n",
       "    }\n",
       "\n",
       "    .dataframe thead th {\n",
       "        text-align: right;\n",
       "    }\n",
       "</style>\n",
       "<table border=\"1\" class=\"dataframe\">\n",
       "  <thead>\n",
       "    <tr style=\"text-align: right;\">\n",
       "      <th></th>\n",
       "      <th>account_id</th>\n",
       "      <th>account_name</th>\n",
       "    </tr>\n",
       "  </thead>\n",
       "  <tbody>\n",
       "    <tr>\n",
       "      <th>0</th>\n",
       "      <td>55</td>\n",
       "      <td>AMDS 1</td>\n",
       "    </tr>\n",
       "    <tr>\n",
       "      <th>1</th>\n",
       "      <td>25</td>\n",
       "      <td>AMDS 2</td>\n",
       "    </tr>\n",
       "    <tr>\n",
       "      <th>2</th>\n",
       "      <td>71</td>\n",
       "      <td>AMDS 3</td>\n",
       "    </tr>\n",
       "    <tr>\n",
       "      <th>3</th>\n",
       "      <td>58</td>\n",
       "      <td>AMDS 4</td>\n",
       "    </tr>\n",
       "    <tr>\n",
       "      <th>4</th>\n",
       "      <td>48</td>\n",
       "      <td>AMDS 5</td>\n",
       "    </tr>\n",
       "    <tr>\n",
       "      <th>5</th>\n",
       "      <td>81</td>\n",
       "      <td>AMDS 6</td>\n",
       "    </tr>\n",
       "    <tr>\n",
       "      <th>6</th>\n",
       "      <td>61</td>\n",
       "      <td>AMDS 8</td>\n",
       "    </tr>\n",
       "    <tr>\n",
       "      <th>7</th>\n",
       "      <td>26</td>\n",
       "      <td>AMDS 9</td>\n",
       "    </tr>\n",
       "  </tbody>\n",
       "</table>\n",
       "</div>"
      ],
      "text/plain": [
       "   account_id account_name\n",
       "0          55       AMDS 1\n",
       "1          25       AMDS 2\n",
       "2          71       AMDS 3\n",
       "3          58       AMDS 4\n",
       "4          48       AMDS 5\n",
       "5          81       AMDS 6\n",
       "6          61       AMDS 8\n",
       "7          26       AMDS 9"
      ]
     },
     "execution_count": 15,
     "metadata": {},
     "output_type": "execute_result"
    }
   ],
   "source": [
    "accounts"
   ]
  },
  {
   "cell_type": "code",
   "execution_count": 16,
   "id": "e1d21524",
   "metadata": {},
   "outputs": [
    {
     "name": "stdout",
     "output_type": "stream",
     "text": [
      "<class 'pandas.core.frame.DataFrame'>\n",
      "RangeIndex: 8 entries, 0 to 7\n",
      "Data columns (total 2 columns):\n",
      " #   Column        Non-Null Count  Dtype \n",
      "---  ------        --------------  ----- \n",
      " 0   account_id    8 non-null      int64 \n",
      " 1   account_name  8 non-null      object\n",
      "dtypes: int64(1), object(1)\n",
      "memory usage: 260.0+ bytes\n",
      "None\n",
      "\n",
      "----------------\n",
      "\n",
      "<class 'pandas.core.frame.DataFrame'>\n",
      "RangeIndex: 5 entries, 0 to 4\n",
      "Data columns (total 8 columns):\n",
      " #   Column         Non-Null Count  Dtype \n",
      "---  ------         --------------  ----- \n",
      " 0   asset_id       5 non-null      int64 \n",
      " 1   license_plate  5 non-null      object\n",
      " 2   maker          5 non-null      object\n",
      " 3   model          5 non-null      object\n",
      " 4   account_id     5 non-null      int64 \n",
      " 5   data_source    5 non-null      int64 \n",
      " 6   tank_capacity  5 non-null      int64 \n",
      " 7   maker_fixed    5 non-null      object\n",
      "dtypes: int64(4), object(4)\n",
      "memory usage: 452.0+ bytes\n",
      "None\n"
     ]
    }
   ],
   "source": [
    "print(accounts.info())\n",
    "print()\n",
    "print('----------------')\n",
    "print()\n",
    "print(assets.info())"
   ]
  },
  {
   "cell_type": "markdown",
   "id": "db9bdb53",
   "metadata": {},
   "source": [
    "Talbes cleared. Let.s leave it\n"
   ]
  },
  {
   "cell_type": "markdown",
   "id": "02230a68",
   "metadata": {},
   "source": [
    "## 2. Facts tables cleaning"
   ]
  },
  {
   "cell_type": "code",
   "execution_count": 17,
   "id": "b3f29e08",
   "metadata": {},
   "outputs": [],
   "source": [
    "def fact_files_to_read(input_directory):\n",
    "    objects = os.scandir(inputs_dir)\n",
    "    fileList = []\n",
    "    for obj in objects:\n",
    "        if obj.is_file() and re.fullmatch('\\d*\\.xlsx', obj.name) is not None:\n",
    "            fileList.append(inputs_dir+obj.name)\n",
    "    return fileList "
   ]
  },
  {
   "cell_type": "code",
   "execution_count": 18,
   "id": "067e666a",
   "metadata": {},
   "outputs": [
    {
     "data": {
      "text/plain": [
       "['Inputs/334455.xlsx',\n",
       " 'Inputs/334456.xlsx',\n",
       " 'Inputs/334457.xlsx',\n",
       " 'Inputs/334458.xlsx',\n",
       " 'Inputs/334459.xlsx']"
      ]
     },
     "execution_count": 18,
     "metadata": {},
     "output_type": "execute_result"
    }
   ],
   "source": [
    "inputs_dir= 'Inputs/'\n",
    "files = fact_files_to_read(inputs_dir)\n",
    "files"
   ]
  },
  {
   "cell_type": "code",
   "execution_count": 19,
   "id": "3bdeb746",
   "metadata": {},
   "outputs": [],
   "source": [
    "def facts_reader(files): \n",
    "    dfs= []\n",
    "    for file in files: \n",
    "        df=pd.read_excel(file, parse_dates=[1])\n",
    "        dfs.append(df)\n",
    "    return dfs \n",
    "        "
   ]
  },
  {
   "cell_type": "code",
   "execution_count": 20,
   "id": "2d42b05d",
   "metadata": {},
   "outputs": [],
   "source": [
    "fact_tables = facts_reader(files)"
   ]
  },
  {
   "cell_type": "code",
   "execution_count": 21,
   "id": "2573d3e8",
   "metadata": {},
   "outputs": [
    {
     "name": "stdout",
     "output_type": "stream",
     "text": [
      "Index(['ID', ' Timestamp (dd/mm/yyyy hh:mm:ss)', ' Ignition', ' Odometer',\n",
      "       ' Pos (Lat, Long)', ' Fuel %age'],\n",
      "      dtype='object')\n",
      "-------\n",
      "\n",
      "Index(['ID', ' Timestamp', ' Ignition', ' Odometer Mts', ' Pos', ' Fuel %age'], dtype='object')\n",
      "-------\n",
      "\n",
      "Index(['ID', ' Timestamp', ' Ignition', ' Odometer Mts', ' Pos', ' Fuel %age'], dtype='object')\n",
      "-------\n",
      "\n",
      "Index(['ID', ' Timestamp', ' Ignition', ' Odometer', ' Pos', ' Fuel %age'], dtype='object')\n",
      "-------\n",
      "\n",
      "Index(['ID', ' Timestamp', ' Ignition', ' Odometer', ' Pos', ' Fuel %age'], dtype='object')\n",
      "-------\n",
      "\n"
     ]
    }
   ],
   "source": [
    "for fact_table in fact_tables:\n",
    "    print(fact_table.columns)\n",
    "    print('-------')\n",
    "    print()   \n",
    "#Typos in column names (whitespaces), also different names for some reason. And Odometer Mts and without Mts, Pos (lat, lon)\n",
    "#and without (Lat, Long) - different formats? \n",
    "#Timestamp with format only in first file. Need to check the data and it's datatypes then. "
   ]
  },
  {
   "cell_type": "code",
   "execution_count": 22,
   "id": "6f232bf3",
   "metadata": {},
   "outputs": [
    {
     "name": "stdout",
     "output_type": "stream",
     "text": [
      "       ID  Timestamp (dd/mm/yyyy hh:mm:ss)   Ignition   Odometer  \\\n",
      "0  334455              2024-01-01 15:00:00        1.0        NaN   \n",
      "1  334455              2024-01-01 15:04:00        NaN        NaN   \n",
      "2  334455              2024-01-01 15:07:00        NaN        NaN   \n",
      "3  334455              2024-01-01 15:09:00        NaN        NaN   \n",
      "4  334455              2024-01-01 15:12:00        NaN        NaN   \n",
      "\n",
      "         Pos (Lat, Long)   Fuel %age  \n",
      "0  (53.332025,-6.275705)       100.0  \n",
      "1   (53.331461,-6.30369)         NaN  \n",
      "2  (53.330896,-6.331675)         NaN  \n",
      "3   (53.330332,-6.35966)         NaN  \n",
      "4  (53.329767,-6.387645)         NaN  \n",
      "-------------------\n",
      "\n",
      "-------------------\n",
      "       ID           Timestamp   Ignition   Odometer Mts  \\\n",
      "0  334456 2024-01-04 10:00:00          1           1.48   \n",
      "1  334456 2024-01-04 10:02:08          1           2.96   \n",
      "2  334456 2024-01-04 10:02:37          1           4.44   \n",
      "3  334456 2024-01-04 10:03:51          1           5.92   \n",
      "4  334456 2024-01-04 10:04:34          1           7.40   \n",
      "\n",
      "                     Pos   Fuel %age  \n",
      "0    (54.098194,-8.4042)         100  \n",
      "1  (54.085815,-8.395915)          99  \n",
      "2  (54.073436,-8.387631)          98  \n",
      "3  (54.061056,-8.379346)          97  \n",
      "4  (54.048677,-8.371062)          96  \n",
      "-------------------\n",
      "\n",
      "-------------------\n",
      "       ID           Timestamp   Ignition   Odometer Mts  \\\n",
      "0  334457 2024-01-01 10:00:00          1           1.25   \n",
      "1  334457 2024-01-01 10:02:13          1           2.50   \n",
      "2  334457 2024-01-01 10:03:53          1           3.75   \n",
      "3  334457 2024-01-01 10:06:11          1           5.00   \n",
      "4  334457 2024-01-01 10:06:22          1           6.25   \n",
      "\n",
      "                     Pos   Fuel %age  \n",
      "0  (53.679305,-7.297454)       100.0  \n",
      "1  (53.670328,-7.308877)         NaN  \n",
      "2    (53.661352,-7.3203)         NaN  \n",
      "3  (53.652375,-7.331723)         NaN  \n",
      "4  (53.643399,-7.343146)         NaN  \n",
      "-------------------\n",
      "\n",
      "-------------------\n",
      "       ID           Timestamp   Ignition   Odometer                    Pos  \\\n",
      "0  334458 2024-01-01 15:00:00        1.0        NaN  (54.555905,-1.228622)   \n",
      "1  334458 2024-01-01 15:04:00        NaN        NaN  (54.535077,-1.234858)   \n",
      "2  334458 2024-01-01 15:07:00        NaN        NaN  (54.514249,-1.241094)   \n",
      "3  334458 2024-01-01 15:09:00        NaN        NaN   (54.493422,-1.24733)   \n",
      "4  334458 2024-01-01 15:12:00        NaN        NaN  (54.472594,-1.253566)   \n",
      "\n",
      "    Fuel %age  \n",
      "0       100.0  \n",
      "1         NaN  \n",
      "2         NaN  \n",
      "3         NaN  \n",
      "4         NaN  \n",
      "-------------------\n",
      "\n",
      "-------------------\n",
      "       ID           Timestamp   Ignition   Odometer                   Pos  \\\n",
      "0  334459 2024-01-05 12:00:00          1    4000.00  (52.052579,4.372771)   \n",
      "1  334459 2024-01-05 12:01:07          1    4001.65  (52.043929,4.392128)   \n",
      "2  334459 2024-01-05 12:01:38          1    4003.30  (52.035279,4.411486)   \n",
      "3  334459 2024-01-05 12:02:58          1    4004.95  (52.026629,4.430843)   \n",
      "4  334459 2024-01-05 12:04:08          1    4006.60  (52.017979,4.450201)   \n",
      "\n",
      "    Fuel %age  \n",
      "0        80.0  \n",
      "1        80.0  \n",
      "2        80.0  \n",
      "3        79.0  \n",
      "4        79.0  \n",
      "-------------------\n",
      "\n",
      "-------------------\n"
     ]
    }
   ],
   "source": [
    "#Visually check data and data types. \n",
    "for fact_table in fact_tables:\n",
    "    print(fact_table.head())\n",
    "    print('-------------------')\n",
    "    print()\n",
    "    print('-------------------')\n",
    "# See different column names. Needs to be fixed. \n",
    "#also - unexpected nulls in ignition for 334455, 334458 , odometer nulls, fueel %age. "
   ]
  },
  {
   "cell_type": "code",
   "execution_count": 23,
   "id": "932a29e2",
   "metadata": {},
   "outputs": [
    {
     "name": "stdout",
     "output_type": "stream",
     "text": [
      "<class 'pandas.core.frame.DataFrame'>\n",
      "RangeIndex: 204 entries, 0 to 203\n",
      "Data columns (total 6 columns):\n",
      " #   Column                            Non-Null Count  Dtype         \n",
      "---  ------                            --------------  -----         \n",
      " 0   ID                                204 non-null    int64         \n",
      " 1    Timestamp (dd/mm/yyyy hh:mm:ss)  204 non-null    datetime64[ns]\n",
      " 2    Ignition                         6 non-null      float64       \n",
      " 3    Odometer                         18 non-null     float64       \n",
      " 4    Pos (Lat, Long)                  202 non-null    object        \n",
      " 5    Fuel %age                        6 non-null      float64       \n",
      "dtypes: datetime64[ns](1), float64(3), int64(1), object(1)\n",
      "memory usage: 9.7+ KB\n"
     ]
    }
   ],
   "source": [
    "fact_tables[0].info() #some of pos are nulls, most of ignition, fueld, odometer values are nan. Need to fix or drop nulls in the future.\n",
    "#assumption: pair of ID+timestamp = natural key. "
   ]
  },
  {
   "cell_type": "code",
   "execution_count": 24,
   "id": "efd0a27a",
   "metadata": {},
   "outputs": [
    {
     "name": "stdout",
     "output_type": "stream",
     "text": [
      "[1. 1. 0. 1. 1. 0.]\n",
      "-------------\n",
      "\n",
      "-------------\n",
      "[ 15.  19.  41.   0.  20.  34.  66.  96. 118. 148. 149. 176. 210.   2.\n",
      "  38.  74. 114. 134.]\n",
      "-------------\n",
      "\n",
      "-------------\n",
      "[100.  80.  60.  40. 100.  80.]\n"
     ]
    }
   ],
   "source": [
    "print(fact_tables[0][' Ignition'].dropna().values) #integers, but not so many. \n",
    "print('-------------')\n",
    "print()\n",
    "print('-------------')\n",
    "print(fact_tables[0][' Odometer'].dropna().values)  # so,integers in reality, floats in table with  in the middle for some reason. \n",
    "print('-------------')\n",
    "print()\n",
    "print('-------------')\n",
    "print(fact_tables[0][' Fuel %age'].dropna().values) #integers in reality, float in table, but not so many. "
   ]
  },
  {
   "cell_type": "code",
   "execution_count": 25,
   "id": "46dd5853",
   "metadata": {
    "scrolled": true
   },
   "outputs": [
    {
     "name": "stdout",
     "output_type": "stream",
     "text": [
      "<class 'pandas.core.frame.DataFrame'>\n",
      "RangeIndex: 204 entries, 0 to 203\n",
      "Data columns (total 6 columns):\n",
      " #   Column                            Non-Null Count  Dtype         \n",
      "---  ------                            --------------  -----         \n",
      " 0   ID                                204 non-null    int64         \n",
      " 1    Timestamp (dd/mm/yyyy hh:mm:ss)  204 non-null    datetime64[ns]\n",
      " 2    Ignition                         6 non-null      float64       \n",
      " 3    Odometer                         18 non-null     float64       \n",
      " 4    Pos (Lat, Long)                  202 non-null    object        \n",
      " 5    Fuel %age                        6 non-null      float64       \n",
      "dtypes: datetime64[ns](1), float64(3), int64(1), object(1)\n",
      "memory usage: 9.7+ KB\n"
     ]
    }
   ],
   "source": [
    "fact_tables[0].info() #at least no nulls. "
   ]
  },
  {
   "cell_type": "code",
   "execution_count": 26,
   "id": "0fd2de1a",
   "metadata": {
    "scrolled": false
   },
   "outputs": [
    {
     "name": "stdout",
     "output_type": "stream",
     "text": [
      "[1 1 1 1 1 1 1 1 1 1 1 1 1 1 1 1 1 1 1 1 1 1 1 1 1 1 1 1 1 1 1 1 1 1 1 1 1\n",
      " 1 1 1 1 1 1 1 1 1 1 1 1 1 1 1 1 1 1 1 1 1 1 1 1 1 1 1 1 1 1 1 1 1 1 1 1 1\n",
      " 1 1 1 1 1 1 1 1 1 1 1 1 1 1 1 1 1 1 1 1 1 1 1 1 1 1 1 1 1 1 1 1 1 1 1 1 1\n",
      " 1 1 1 1 1 1 1 1 1 1 1 1 1 1 1 1 1 1 1 1 1 1 1 1 1 1 1 1 1 1 1 1 1 1 1 1 1\n",
      " 1 1 1 1 1 1 1 1 1 1 1 1 1 1 1 1 1 1 1 1 1 1 1 1 1 1 1 1 1 1 1 1 1 1 1 1 1\n",
      " 1 1 1 1 1 1 1 1 1 1 1 1 1 1 1 1 1 1 1 1 1 1 1 1 1 1 1 1 1 1 1 1 1 1 1 1 1\n",
      " 1 1 1 1 1 1 1 1 1 1 1 1 1 1 1 1 1 1 1 1 1 1 1 1 1 1 1 1 1 1]\n",
      "-------------\n",
      "\n",
      "-------------\n",
      "[  1.48   2.96   4.44   5.92   7.4    8.88  10.36  11.84  13.32  14.8\n",
      "  16.28  17.76  19.24  20.72  22.2   23.68  25.16  26.64  28.12  29.6\n",
      "  31.08  32.56  34.04  35.52  37.    38.48  39.96  41.44  42.92  44.4\n",
      "  45.88  47.36  48.84  50.32  51.8   53.28  54.76  56.24  57.72  59.2\n",
      "  60.68  62.16  63.64  65.12  66.6   68.08  69.56  71.04  72.52  74.\n",
      "  75.48  76.96  78.44  79.92  81.4   82.88  84.36  85.84  87.32  88.8\n",
      "  90.28  91.76  93.24  94.72  96.2   97.68  99.16 100.64 102.12 103.6\n",
      " 105.08 106.56 108.04 109.52 111.   112.48 113.96 115.44 116.92 118.4\n",
      " 119.88 121.36 122.84 124.32 125.8  127.28 128.76 130.24 131.72 133.2\n",
      " 134.68 136.16 137.64 139.12 140.6  142.08 143.56 145.04 146.52 148.\n",
      " 149.48 150.96 152.44 153.92 155.4  156.88 158.36 159.84 161.32 162.8\n",
      " 164.28 165.76 167.24 168.72 170.2  171.68 173.16 174.64 176.12 177.6\n",
      " 179.08 180.56 182.04 183.52 185.   186.48 187.96 189.44 190.92 192.4\n",
      " 193.88 195.36 196.84 198.32 199.8  201.28 202.76 204.24 205.72 207.2\n",
      " 208.68 210.16 211.64 213.12 214.6  216.08 217.56 219.04 220.52 222.\n",
      " 223.48 225.7  227.92 230.14 232.36 234.58 236.8  239.02 241.24 243.46\n",
      " 245.68 247.9  250.12 252.34 254.56 256.78 259.   261.22 263.44 265.66\n",
      " 267.88 270.1  272.32 274.54 276.76 278.98 281.2  283.42 285.64 287.86\n",
      " 290.08 292.3  294.52 296.74 298.96 301.18 303.4  305.62 307.84 310.06\n",
      " 312.28 314.5  316.72 318.94 321.16 323.38 325.6  327.82 330.04 332.26\n",
      " 334.48 336.7  338.92 341.14 343.36 345.58 347.8  350.02 352.24 354.46\n",
      " 356.68 358.9  361.12 363.34 365.56 367.78 370.   372.22 374.44 376.66\n",
      " 378.88 381.1  383.32 385.54 387.76 389.98 392.2  394.42 396.64 398.86\n",
      " 401.08 403.3  405.52 407.74 409.96 412.18 414.4  416.62 418.84 421.06\n",
      " 423.28 425.5  427.72 429.94 432.16 434.38 436.6  438.82 441.04 443.26\n",
      " 445.48 447.7 ]\n",
      "-------------\n",
      "\n",
      "-------------\n",
      "[100  99  98  97  96  95  94  93  92  91  90  89  88  87  86  85  84  83\n",
      "  82  81  80  79  78  77  76  75  74  73  72  71  70  69  68  67  66  65\n",
      "  64  63  62  61  60  59  58  57  56  55  54  53  52  51  50  49  48  47\n",
      "  46  45  44  43  42  41  40  39  38  37  36  35  34  33  32  31  30  29\n",
      "  28  27  26  25  24  23  22  21  90  89  88  87  86  85  84  83  82  81\n",
      "  80  79  78  77  76  75  74  73  72  71  70  69  68  67  66  65  64  63\n",
      "  62  63  62  61  60  59  58  57  56  55  54  53  52  51  50  51  50  49\n",
      "  48  47  46  45  44  43  42  41  40  39  38  37  36  35  34  33  32  31\n",
      "  30  29  28  27  26  25  24 100  99  98  97  96  95  94  93  92  91  90\n",
      "  89  88  87  86  85  84  83  82  81  80  79  78  77  76  75  74  73  72\n",
      "  71  70  69  68  67  66  65  64  63  62  61  60  59  58  57  56  55  54\n",
      "  53  52  51  50  49  48  47  46  45  44  43  42  41  40  39  38  37  36\n",
      "  35  36  35  34  33  32  31  30  29  28  27  26  25  24  23  22  21  20\n",
      "  19  18  17  16  15  14  13  12  11  10   9   8   7   6   5   4   3   2]\n"
     ]
    }
   ],
   "source": [
    "print(fact_tables[1][' Ignition'].dropna().values) #ingegers\n",
    "print('-------------')\n",
    "print()\n",
    "print('-------------')\n",
    "print(fact_tables[1][' Odometer Mts'].dropna().values)  # floats \n",
    "print('-------------')\n",
    "print()\n",
    "print('-------------')\n",
    "print(fact_tables[1][' Fuel %age'].dropna().values) #integers\n",
    "\n",
    "\n",
    "#also observed all other files in the same way and..."
   ]
  },
  {
   "cell_type": "markdown",
   "id": "dc5cab7b",
   "metadata": {},
   "source": [
    "### 2.1 Settings common columns names. "
   ]
  },
  {
   "cell_type": "code",
   "execution_count": 27,
   "id": "4360ced5",
   "metadata": {},
   "outputs": [],
   "source": [
    "#... and now I can at least rename columns for all files and to convert datatypes to the most suitable\n",
    "#wide type: if the data in one file in column_x is int and in another file is float - it'll be float, as a type, preserving \n",
    "#accuracy of both floats and ints. \n",
    "def columns_common_names(list_df, cols_list):\n",
    "    for df in list_df: \n",
    "        df.columns = cols_list\n",
    "    return None\n",
    "# To convert cols to common datatypes, but after I can get rid of nans. \n",
    "def columns_common_datatypes(list_df, cols_convert_map):\n",
    "    for df in list_df: \n",
    "        for col in cols_convert_map:\n",
    "            df[col]=df[col].apply(cols_convert_map[col])\n",
    "    return None"
   ]
  },
  {
   "cell_type": "code",
   "execution_count": 28,
   "id": "8883c072",
   "metadata": {},
   "outputs": [],
   "source": [
    "facts_cals = ['id', 'timestamp', 'ignition', 'odometer_m', 'pos', 'fuel_%']\n",
    "convert_map = {\n",
    "    'ignition': int, \n",
    "    'odometer_m': float, \n",
    "    'fuel_%': int    \n",
    "}\n",
    "\n",
    "columns_common_names(fact_tables, facts_cals)\n",
    "#columns_common_datatypes(fact_tables, convert_map)"
   ]
  },
  {
   "cell_type": "code",
   "execution_count": 29,
   "id": "b55d9b1f",
   "metadata": {},
   "outputs": [
    {
     "name": "stdout",
     "output_type": "stream",
     "text": [
      "2\n",
      "0\n",
      "2\n",
      "2\n",
      "2\n"
     ]
    }
   ],
   "source": [
    "for fact in fact_tables: \n",
    "    print(sum(fact.duplicated(subset=['id', 'timestamp']))) \n",
    "#quite unexpected. Means - id+timestamp isn't unique and \n",
    "#we actually can recieve >1 events in the same second. Can be resolved either by bigger granularity scale (milliseconds)\n",
    "#or to add events_sequence. Let's check if id+timestamp+ignition are unique. "
   ]
  },
  {
   "cell_type": "code",
   "execution_count": 30,
   "id": "dae4fccd",
   "metadata": {},
   "outputs": [
    {
     "name": "stdout",
     "output_type": "stream",
     "text": [
      "0\n",
      "0\n",
      "0\n",
      "0\n",
      "0\n"
     ]
    }
   ],
   "source": [
    "for fact in fact_tables: \n",
    "    print(sum(fact.duplicated(subset=['id', 'timestamp', 'ignition'])))\n",
    "#yes, at least it's totally unique. But as there are null values for ignition in some tables, makes sense to fill in the values\n",
    "#based either on: previous(initial) state. Or: initial state + movement fact (to check delta of distance between rows, if \n",
    "#distance covered >0, then ignition =1, if =0 - then...well, then it can be either ignition = 0 as well as ignition = 1 (you still\n",
    "#can leave the ignited car or stay in traffic jam.)). \n",
    "\n",
    "#I think we can believe ignition sensors work, but work in different way, so in some cases they're producing results constantly,\n",
    "#and sometimes - ony during state changes. "
   ]
  },
  {
   "cell_type": "code",
   "execution_count": 31,
   "id": "230b33c7",
   "metadata": {},
   "outputs": [],
   "source": [
    "first_sample = fact_tables[0]\n",
    "first_sample['is_ignition_value']=first_sample['ignition'].apply(lambda x: 0 if pd.isna(x) else 1)#could be fill na straightforward\n",
    "#but decided to implement through table functions"
   ]
  },
  {
   "cell_type": "code",
   "execution_count": 32,
   "id": "2763db10",
   "metadata": {
    "scrolled": false
   },
   "outputs": [],
   "source": [
    "#first_sample['ignition_parts']= first_sample.sort_values('timestamp',  ascending=True).groupby(['id'])['ignition'].rank()\n",
    "\n",
    "\n",
    "\n",
    "# first_sample['ignition_parts']=first_sample.sort_values('timestamp')['is_ignition_value'].cumsum()\n",
    "# first_sample['ignition_filled'] = first_sample.sort_values('timestamp').groupby(['id','ignition_parts'])['ignition'].ffill()\n",
    "# first_sample['ignition_filled'] = first_sample['ignition_filled'].apply(int)\n",
    "\n",
    "\n",
    "# first_sample['prev_ignition'] = first_sample.sort_values('timestamp').groupby(['id'])\\\n",
    "# ['ignition_filled'].shift(1)\n",
    "# first_sample['changed_ignition_status'] = first_sample['ignition_filled']!=first_sample['prev_ignition']\n",
    "# first_sample['seq_number']=first_sample.sort_values(['timestamp', 'changed_ignition_status']).groupby(['id', 'timestamp']).cumcount()+1\n",
    "\n",
    "# first_sample=first_sample[['id', 'timestamp', 'seq_number', 'ignition', 'ignition_filled', 'odometer_m', 'pos', 'fuel_%']]"
   ]
  },
  {
   "cell_type": "markdown",
   "id": "4ff931b7",
   "metadata": {},
   "source": [
    "### 2.2. Forward-filling ignition data"
   ]
  },
  {
   "cell_type": "code",
   "execution_count": 33,
   "id": "d70933b6",
   "metadata": {},
   "outputs": [],
   "source": [
    "def order_and_ignition_fill (df): \n",
    "    df['is_ignition_value']=df['ignition'].apply(lambda x: 0 if pd.isna(x) else 1)\n",
    "    df['ignition_parts']= df.sort_values('timestamp')['is_ignition_value'].cumsum()\n",
    "    df['ignition_filled'] = df.sort_values('timestamp').groupby(['id','ignition_parts'])['ignition'].ffill()\n",
    "    df['ignition_filled'] = df['ignition_filled'].apply(int)\n",
    "    \n",
    "    #Sequence for the events, so engine_off should always be after engine on sent in the same time. \n",
    "    df['prev_ignition'] = df.sort_values('timestamp').groupby(['id'])['ignition_filled'].shift(1)\n",
    "    df['changed_ignition_status'] = df['ignition_filled']!=df['prev_ignition']\n",
    "    df['seq_number']=df.sort_values(['timestamp', 'changed_ignition_status']).groupby(['id', 'timestamp']).cumcount()+1\n",
    "    return None\n",
    "\n",
    "\n",
    "\n"
   ]
  },
  {
   "cell_type": "code",
   "execution_count": 34,
   "id": "edf446c8",
   "metadata": {},
   "outputs": [],
   "source": [
    "def ignition_fill_all_tables(dflist):\n",
    "    for df in dflist: \n",
    "        order_and_ignition_fill(df)\n",
    "    return None\n",
    "\n",
    "ignition_fill_all_tables(fact_tables)\n",
    "for i, df in enumerate(fact_tables): \n",
    "    fact_tables[i]=fact_tables[i][['id', 'timestamp', 'seq_number', 'ignition', 'ignition_filled', 'odometer_m', 'pos', 'fuel_%']]\n"
   ]
  },
  {
   "cell_type": "markdown",
   "id": "923dcbf3",
   "metadata": {},
   "source": [
    "### 2.3. Forward filling the same fuel, odometer, geo for events occured the same second (last ignited moment+engine off)"
   ]
  },
  {
   "cell_type": "code",
   "execution_count": 35,
   "id": "914c6b1c",
   "metadata": {},
   "outputs": [],
   "source": [
    "##Also it's possible to fill in coordinates and fuel, as well as odometer metric (should be nearly the same in the same moment of time) for those stop engine events, which happened the same second we have data for \n",
    "##start engine:\n",
    "def fill_in_pos_fuel_od_ign_off(df):\n",
    "    df['pos']=df.sort_values(['id','timestamp', 'seq_number']).groupby(['id', 'timestamp'])['pos'].ffill()\n",
    "    df['fuel_%']=df.sort_values(['id','timestamp', 'seq_number']).groupby(['id', 'timestamp'])['fuel_%'].ffill()\n",
    "    df['odometer_m']=df.sort_values(['id','timestamp', 'seq_number']).groupby(['id', 'timestamp'])['odometer_m'].ffill()\n",
    "    return None\n",
    "    \n",
    "def fill_same_second_fuel_pos_gaps(dflist):\n",
    "    for df in dflist:\n",
    "        fill_in_pos_fuel_od_ign_off(df)\n",
    "    return None"
   ]
  },
  {
   "cell_type": "code",
   "execution_count": 36,
   "id": "b3cda799",
   "metadata": {},
   "outputs": [
    {
     "name": "stderr",
     "output_type": "stream",
     "text": [
      "C:\\Users\\Yevhen\\AppData\\Local\\Temp\\ipykernel_15648\\2045819370.py:4: SettingWithCopyWarning: \n",
      "A value is trying to be set on a copy of a slice from a DataFrame.\n",
      "Try using .loc[row_indexer,col_indexer] = value instead\n",
      "\n",
      "See the caveats in the documentation: https://pandas.pydata.org/pandas-docs/stable/user_guide/indexing.html#returning-a-view-versus-a-copy\n",
      "  df['pos']=df.sort_values(['id','timestamp', 'seq_number']).groupby(['id', 'timestamp'])['pos'].ffill()\n",
      "C:\\Users\\Yevhen\\AppData\\Local\\Temp\\ipykernel_15648\\2045819370.py:5: SettingWithCopyWarning: \n",
      "A value is trying to be set on a copy of a slice from a DataFrame.\n",
      "Try using .loc[row_indexer,col_indexer] = value instead\n",
      "\n",
      "See the caveats in the documentation: https://pandas.pydata.org/pandas-docs/stable/user_guide/indexing.html#returning-a-view-versus-a-copy\n",
      "  df['fuel_%']=df.sort_values(['id','timestamp', 'seq_number']).groupby(['id', 'timestamp'])['fuel_%'].ffill()\n",
      "C:\\Users\\Yevhen\\AppData\\Local\\Temp\\ipykernel_15648\\2045819370.py:6: SettingWithCopyWarning: \n",
      "A value is trying to be set on a copy of a slice from a DataFrame.\n",
      "Try using .loc[row_indexer,col_indexer] = value instead\n",
      "\n",
      "See the caveats in the documentation: https://pandas.pydata.org/pandas-docs/stable/user_guide/indexing.html#returning-a-view-versus-a-copy\n",
      "  df['odometer_m']=df.sort_values(['id','timestamp', 'seq_number']).groupby(['id', 'timestamp'])['odometer_m'].ffill()\n"
     ]
    }
   ],
   "source": [
    "fill_same_second_fuel_pos_gaps(fact_tables)"
   ]
  },
  {
   "cell_type": "code",
   "execution_count": 37,
   "id": "bf091c46",
   "metadata": {
    "scrolled": false
   },
   "outputs": [
    {
     "name": "stdout",
     "output_type": "stream",
     "text": [
      "<class 'pandas.core.frame.DataFrame'>\n",
      "RangeIndex: 204 entries, 0 to 203\n",
      "Data columns (total 8 columns):\n",
      " #   Column           Non-Null Count  Dtype         \n",
      "---  ------           --------------  -----         \n",
      " 0   id               204 non-null    int64         \n",
      " 1   timestamp        204 non-null    datetime64[ns]\n",
      " 2   seq_number       204 non-null    int64         \n",
      " 3   ignition         6 non-null      float64       \n",
      " 4   ignition_filled  204 non-null    int64         \n",
      " 5   odometer_m       19 non-null     float64       \n",
      " 6   pos              204 non-null    object        \n",
      " 7   fuel_%           7 non-null      float64       \n",
      "dtypes: datetime64[ns](1), float64(3), int64(3), object(1)\n",
      "memory usage: 12.9+ KB\n",
      "None\n",
      "\n",
      "-------------------------------------\n",
      "\n",
      "<class 'pandas.core.frame.DataFrame'>\n",
      "RangeIndex: 252 entries, 0 to 251\n",
      "Data columns (total 8 columns):\n",
      " #   Column           Non-Null Count  Dtype         \n",
      "---  ------           --------------  -----         \n",
      " 0   id               252 non-null    int64         \n",
      " 1   timestamp        252 non-null    datetime64[ns]\n",
      " 2   seq_number       252 non-null    int64         \n",
      " 3   ignition         252 non-null    int64         \n",
      " 4   ignition_filled  252 non-null    int64         \n",
      " 5   odometer_m       252 non-null    float64       \n",
      " 6   pos              252 non-null    object        \n",
      " 7   fuel_%           252 non-null    int64         \n",
      "dtypes: datetime64[ns](1), float64(1), int64(5), object(1)\n",
      "memory usage: 15.9+ KB\n",
      "None\n",
      "\n",
      "-------------------------------------\n",
      "\n",
      "<class 'pandas.core.frame.DataFrame'>\n",
      "RangeIndex: 480 entries, 0 to 479\n",
      "Data columns (total 8 columns):\n",
      " #   Column           Non-Null Count  Dtype         \n",
      "---  ------           --------------  -----         \n",
      " 0   id               480 non-null    int64         \n",
      " 1   timestamp        480 non-null    datetime64[ns]\n",
      " 2   seq_number       480 non-null    int64         \n",
      " 3   ignition         480 non-null    int64         \n",
      " 4   ignition_filled  480 non-null    int64         \n",
      " 5   odometer_m       480 non-null    float64       \n",
      " 6   pos              480 non-null    object        \n",
      " 7   fuel_%           24 non-null     float64       \n",
      "dtypes: datetime64[ns](1), float64(2), int64(4), object(1)\n",
      "memory usage: 30.1+ KB\n",
      "None\n",
      "\n",
      "-------------------------------------\n",
      "\n",
      "<class 'pandas.core.frame.DataFrame'>\n",
      "RangeIndex: 355 entries, 0 to 354\n",
      "Data columns (total 8 columns):\n",
      " #   Column           Non-Null Count  Dtype         \n",
      "---  ------           --------------  -----         \n",
      " 0   id               355 non-null    int64         \n",
      " 1   timestamp        355 non-null    datetime64[ns]\n",
      " 2   seq_number       355 non-null    int64         \n",
      " 3   ignition         7 non-null      float64       \n",
      " 4   ignition_filled  355 non-null    int64         \n",
      " 5   odometer_m       23 non-null     float64       \n",
      " 6   pos              355 non-null    object        \n",
      " 7   fuel_%           11 non-null     float64       \n",
      "dtypes: datetime64[ns](1), float64(3), int64(3), object(1)\n",
      "memory usage: 22.3+ KB\n",
      "None\n",
      "\n",
      "-------------------------------------\n",
      "\n",
      "<class 'pandas.core.frame.DataFrame'>\n",
      "RangeIndex: 730 entries, 0 to 729\n",
      "Data columns (total 8 columns):\n",
      " #   Column           Non-Null Count  Dtype         \n",
      "---  ------           --------------  -----         \n",
      " 0   id               730 non-null    int64         \n",
      " 1   timestamp        730 non-null    datetime64[ns]\n",
      " 2   seq_number       730 non-null    int64         \n",
      " 3   ignition         730 non-null    int64         \n",
      " 4   ignition_filled  730 non-null    int64         \n",
      " 5   odometer_m       730 non-null    float64       \n",
      " 6   pos              730 non-null    object        \n",
      " 7   fuel_%           730 non-null    float64       \n",
      "dtypes: datetime64[ns](1), float64(2), int64(4), object(1)\n",
      "memory usage: 45.8+ KB\n",
      "None\n",
      "\n",
      "-------------------------------------\n",
      "\n"
     ]
    }
   ],
   "source": [
    "for df in fact_tables:\n",
    "    print(df.info())\n",
    "    print()\n",
    "    print('-------------------------------------')\n",
    "    print()"
   ]
  },
  {
   "cell_type": "markdown",
   "id": "0b40103d",
   "metadata": {},
   "source": [
    "### 2.4 Extracting geo data to recover then delta distance covered between two points. "
   ]
  },
  {
   "cell_type": "code",
   "execution_count": 38,
   "id": "9eef51d3",
   "metadata": {},
   "outputs": [],
   "source": [
    "#Okay, so ignition status is recovered. All the events have geo, but not all have odometer values. So, it makes sense to recover\n",
    "#distance covered from geo. Will be alternative source of truth for o distance covered metric, as well, as a control metric for\n",
    "#odometer. \n",
    "\n",
    "#And....let's put  latitude and longitude in separate columns too!\n"
   ]
  },
  {
   "cell_type": "code",
   "execution_count": 39,
   "id": "00c61eca",
   "metadata": {},
   "outputs": [],
   "source": [
    "#fact_tables[0]['prev_pos']=fact_tables[0].sort_values(['id', 'timestamp', 'seq_number']).groupby('id')['pos'].shift()"
   ]
  },
  {
   "cell_type": "code",
   "execution_count": 40,
   "id": "33779de3",
   "metadata": {},
   "outputs": [],
   "source": [
    "def geo_extractor (string_tuple):\n",
    "    \"\"\"Allows to extract latitude and longitude from \n",
    "    stringified tuples of pos column. \n",
    "    \"\"\"\n",
    "    lat = np.nan\n",
    "    lon = np.nan\n",
    "    try: \n",
    "        lat = ast.literal_eval(string_tuple)[0]\n",
    "        lon = ast.literal_eval(string_tuple)[1]\n",
    "    except ValueError:\n",
    "        print('Input is not a tuple')\n",
    "    return lat, lon\n",
    "    \n",
    "def cleared_geo_tuple (lat, lon):\n",
    "    if not (np.isnan(lat)) and not(np.isnan(lon)):\n",
    "        return (lat,lon)\n",
    "    else: \n",
    "        return np.nan\n",
    "    \n",
    "\n",
    "def prev_pos (df): \n",
    "    \"\"\"Creates geo-cols in dataframe\"\"\"\n",
    "    df['prev_pos'] = df.sort_values(['id', 'timestamp', 'seq_number']).groupby('id')['pos'].shift()\n",
    "    df['current_lat'] = df['pos'].apply(lambda x: geo_extractor(x)[0])\n",
    "    df['current_lon'] = df['pos'].apply(lambda x: geo_extractor(x)[1])\n",
    "    df['prev_lat'] = df['prev_pos'].apply(lambda x: geo_extractor(x)[0])\n",
    "    df['prev_lon'] = df['prev_pos'].apply(lambda x: geo_extractor(x)[1])\n",
    "    df['current_loc']= df.apply(lambda x: cleared_geo_tuple(x['current_lat'], x['current_lon']), axis=1)\n",
    "    df['prev_loc'] = df.apply(lambda x: cleared_geo_tuple(x['prev_lat'], x['prev_lon']), axis=1)\n",
    "    #df['current_lon'] = df['pos'].apply(lambda x: ast.literal_eval(x)[1])\n",
    "    #df['prev_lat'] = df['prev_pos'].apply(lambda x: ast.literal_eval(x)[0])\n",
    "    #df['prev_lon'] = df['[prev_pos'].apply(lambda x: ast.literal_eval(x)[1])\n",
    "    \n",
    "    #df['col_3'] = df.apply(lambda x: get_sublist(x.col_1, x.col_2), axis=1)\n",
    "\n",
    "    return None\n",
    "    \n",
    "def coordinates_parser(df_list): \n",
    "    \"\"\"Iterates through the list of DFs to apply functions\"\"\"\n",
    "    for df in df_list: \n",
    "        prev_pos(df)\n",
    "    return None"
   ]
  },
  {
   "cell_type": "code",
   "execution_count": 41,
   "id": "6e3613b2",
   "metadata": {
    "scrolled": false
   },
   "outputs": [
    {
     "name": "stderr",
     "output_type": "stream",
     "text": [
      "C:\\Users\\Yevhen\\AppData\\Local\\Temp\\ipykernel_15648\\1977845144.py:23: SettingWithCopyWarning: \n",
      "A value is trying to be set on a copy of a slice from a DataFrame.\n",
      "Try using .loc[row_indexer,col_indexer] = value instead\n",
      "\n",
      "See the caveats in the documentation: https://pandas.pydata.org/pandas-docs/stable/user_guide/indexing.html#returning-a-view-versus-a-copy\n",
      "  df['prev_pos'] = df.sort_values(['id', 'timestamp', 'seq_number']).groupby('id')['pos'].shift()\n",
      "C:\\Users\\Yevhen\\AppData\\Local\\Temp\\ipykernel_15648\\1977845144.py:24: SettingWithCopyWarning: \n",
      "A value is trying to be set on a copy of a slice from a DataFrame.\n",
      "Try using .loc[row_indexer,col_indexer] = value instead\n",
      "\n",
      "See the caveats in the documentation: https://pandas.pydata.org/pandas-docs/stable/user_guide/indexing.html#returning-a-view-versus-a-copy\n",
      "  df['current_lat'] = df['pos'].apply(lambda x: geo_extractor(x)[0])\n",
      "C:\\Users\\Yevhen\\AppData\\Local\\Temp\\ipykernel_15648\\1977845144.py:25: SettingWithCopyWarning: \n",
      "A value is trying to be set on a copy of a slice from a DataFrame.\n",
      "Try using .loc[row_indexer,col_indexer] = value instead\n",
      "\n",
      "See the caveats in the documentation: https://pandas.pydata.org/pandas-docs/stable/user_guide/indexing.html#returning-a-view-versus-a-copy\n",
      "  df['current_lon'] = df['pos'].apply(lambda x: geo_extractor(x)[1])\n",
      "C:\\Users\\Yevhen\\AppData\\Local\\Temp\\ipykernel_15648\\1977845144.py:23: SettingWithCopyWarning: \n",
      "A value is trying to be set on a copy of a slice from a DataFrame.\n",
      "Try using .loc[row_indexer,col_indexer] = value instead\n",
      "\n",
      "See the caveats in the documentation: https://pandas.pydata.org/pandas-docs/stable/user_guide/indexing.html#returning-a-view-versus-a-copy\n",
      "  df['prev_pos'] = df.sort_values(['id', 'timestamp', 'seq_number']).groupby('id')['pos'].shift()\n",
      "C:\\Users\\Yevhen\\AppData\\Local\\Temp\\ipykernel_15648\\1977845144.py:24: SettingWithCopyWarning: \n",
      "A value is trying to be set on a copy of a slice from a DataFrame.\n",
      "Try using .loc[row_indexer,col_indexer] = value instead\n",
      "\n",
      "See the caveats in the documentation: https://pandas.pydata.org/pandas-docs/stable/user_guide/indexing.html#returning-a-view-versus-a-copy\n",
      "  df['current_lat'] = df['pos'].apply(lambda x: geo_extractor(x)[0])\n",
      "C:\\Users\\Yevhen\\AppData\\Local\\Temp\\ipykernel_15648\\1977845144.py:25: SettingWithCopyWarning: \n",
      "A value is trying to be set on a copy of a slice from a DataFrame.\n",
      "Try using .loc[row_indexer,col_indexer] = value instead\n",
      "\n",
      "See the caveats in the documentation: https://pandas.pydata.org/pandas-docs/stable/user_guide/indexing.html#returning-a-view-versus-a-copy\n",
      "  df['current_lon'] = df['pos'].apply(lambda x: geo_extractor(x)[1])\n"
     ]
    },
    {
     "name": "stdout",
     "output_type": "stream",
     "text": [
      "Input is not a tuple\n",
      "Input is not a tuple\n",
      "Input is not a tuple\n",
      "Input is not a tuple\n",
      "Input is not a tuple\n",
      "Input is not a tuple\n",
      "Input is not a tuple\n",
      "Input is not a tuple\n",
      "Input is not a tuple\n",
      "Input is not a tuple\n"
     ]
    }
   ],
   "source": [
    "coordinates_parser(fact_tables)"
   ]
  },
  {
   "cell_type": "markdown",
   "id": "dc75cad6",
   "metadata": {},
   "source": [
    "### 2.5 Geo distances extraction for separate tables"
   ]
  },
  {
   "cell_type": "code",
   "execution_count": 42,
   "id": "46d19d35",
   "metadata": {
    "scrolled": false
   },
   "outputs": [],
   "source": [
    "#Let's calculate distance by gps, as there is no gaps for gps location data. \n",
    "\n",
    "def gps_distance_for_all_tables (df_list):\n",
    "    \"\"\"Takes all dataframes and calculates gps distance for all of them\"\"\"\n",
    "    def gps_distance_calc(curr_loc, prev_loc, index_of_df):\n",
    "        try:\n",
    "            #if not(np.isnan(curr_loc) or np.isnan(prev_loc):\n",
    "            dst = distance.distance(curr_loc, prev_loc).m\n",
    "        except ValueError: \n",
    "            print(f'Distance variable(s) is/are incorrect in {index_of_df} df')\n",
    "            dst = np.nan\n",
    "        return dst\n",
    "    for i, df in enumerate(df_list): \n",
    "        df['gps_distance'] = df.sort_values(['id', 'timestamp']).apply(lambda x: gps_distance_calc(x['current_loc'], x['prev_loc'], i), axis= 1)\n",
    "    return None \n",
    "\n",
    "\n",
    "\n",
    "\n",
    "\n",
    "#fact_tables[0]['distance'] = fact_tables[0].sort_values(['id','timestamp']).apply(lambda x: distance_calc(x['current_loc'], x['prev_loc']), axis= 1)"
   ]
  },
  {
   "cell_type": "code",
   "execution_count": 43,
   "id": "701fe37b",
   "metadata": {},
   "outputs": [],
   "source": [
    "# def gps_distance_calc(curr_loc, prev_loc):\n",
    "#     dst = 0\n",
    "#     try:\n",
    "#         #if not(np.isnan(curr_loc) or np.isnan(prev_loc.all())):\n",
    "#         dst = distance.distance(curr_loc, prev_loc).m\n",
    "#     except ValueError: \n",
    "#         print('Distance variable(s) is/are incorrect')\n",
    "#     return dst\n",
    "\n",
    "\n",
    "# for i,df in enumerate(fact_tables): \n",
    "#     print(i)\n",
    "#     df['gps_distance'] = df.sort_values(['id', 'timestamp']).apply(lambda x: gps_distance_calc(x['current_loc'], x['prev_loc']), axis= 1)\n",
    "    \n",
    "    \n",
    "#warning can tell, that coordinates aren't correct at all. "
   ]
  },
  {
   "cell_type": "code",
   "execution_count": 44,
   "id": "afe4b771",
   "metadata": {},
   "outputs": [
    {
     "name": "stdout",
     "output_type": "stream",
     "text": [
      "Distance variable(s) is/are incorrect in 0 df\n",
      "Distance variable(s) is/are incorrect in 1 df\n",
      "Distance variable(s) is/are incorrect in 2 df\n",
      "Distance variable(s) is/are incorrect in 2 df\n",
      "Distance variable(s) is/are incorrect in 2 df\n",
      "Distance variable(s) is/are incorrect in 2 df\n",
      "Distance variable(s) is/are incorrect in 2 df\n",
      "Distance variable(s) is/are incorrect in 2 df\n",
      "Distance variable(s) is/are incorrect in 2 df\n",
      "Distance variable(s) is/are incorrect in 3 df\n",
      "Distance variable(s) is/are incorrect in 4 df\n"
     ]
    },
    {
     "name": "stderr",
     "output_type": "stream",
     "text": [
      "C:\\Users\\Yevhen\\AppData\\Roaming\\Python\\Python311\\site-packages\\geopy\\point.py:472: UserWarning: Latitude normalization has been prohibited in the newer versions of geopy, because the normalized value happened to be on a different pole, which is probably not what was meant. If you pass coordinates as positional args, please make sure that the order is (latitude, longitude) or (y, x) in Cartesian terms.\n",
      "  return cls(*args)\n"
     ]
    }
   ],
   "source": [
    "gps_distance_for_all_tables(fact_tables)\n",
    "#warning occured because of df #2, but it's okay, as values of distance will be nulls \n",
    "#there in this case, will be handled later. "
   ]
  },
  {
   "cell_type": "markdown",
   "id": "f96eb280",
   "metadata": {},
   "source": [
    "### 2.6 The same for odometer, but only for those rows who have previous data. "
   ]
  },
  {
   "cell_type": "code",
   "execution_count": 45,
   "id": "ff77073e",
   "metadata": {},
   "outputs": [],
   "source": [
    "#lets'calculate distance between rows for  Odometer\n",
    "def odometer_distance_for_all_tables (df_list):\n",
    "    \"\"\"Takes all dataframes and calculates odometer distance for all of them\"\"\"\n",
    "    def odometer_distance_calc(curr_od, prev_od, index_of_df):\n",
    "        try:\n",
    "            #if not(np.isnan(curr_loc) or np.isnan(prev_loc.all())):\n",
    "            dst = (curr_od - prev_od)*1000 #to get distance in meters\n",
    "        except ValueError: \n",
    "            print(f'Distance variable(s) is/are incorrect in {index_of_df} df')\n",
    "        return dst\n",
    "    \n",
    "    def prev_odometer(df):\n",
    "        df['prev_od'] = df.sort_values(['id', 'timestamp', 'seq_number']).groupby('id')['odometer_m'].shift()\n",
    "        return None \n",
    "    \n",
    "    for i, df in enumerate(df_list): \n",
    "        prev_odometer(df)\n",
    "        df['od_distance'] = df.sort_values(['id', 'timestamp']).apply(lambda x: odometer_distance_calc(x['odometer_m'], x['prev_od'], i), axis= 1)\n",
    "    return None "
   ]
  },
  {
   "cell_type": "code",
   "execution_count": 46,
   "id": "778bf4ef",
   "metadata": {},
   "outputs": [],
   "source": [
    "odometer_distance_for_all_tables(fact_tables)"
   ]
  },
  {
   "cell_type": "markdown",
   "id": "e1453654",
   "metadata": {},
   "source": [
    "### 2.7 Timedelta (in seconds) between records: "
   ]
  },
  {
   "cell_type": "code",
   "execution_count": 47,
   "id": "8374190e",
   "metadata": {},
   "outputs": [],
   "source": [
    "#Let's calculate time gaps between records in seconds: \n",
    "def timediff_corr_rows(df_list):\n",
    "    \"\"\"Takes all dataframes and calculates timedelta between sequence of rows for them\"\"\"\n",
    "    def timediff_curr_prev(timestamp, prev_timestamp, index_of_df):\n",
    "        try:\n",
    "            #if not(np.isnan(curr_loc) or np.isnan(prev_loc.all())):\n",
    "            timediff = pd.Timedelta(timestamp - prev_timestamp).total_seconds() #to get time in seconds\n",
    "        except ValueError: \n",
    "            print(f'Distance variable(s) is/are incorrect in {index_of_df} df')\n",
    "        return timediff\n",
    "    \n",
    "    def prev_timestamp(df):\n",
    "        df['prev_timestamp'] = df.sort_values(['id', 'timestamp', 'seq_number']).groupby('id')['timestamp'].shift()\n",
    "        return None \n",
    "    \n",
    "    for i, df in enumerate(df_list): \n",
    "        prev_timestamp(df)\n",
    "        df['timediff'] = df.sort_values(['id', 'timestamp']).apply(lambda x: timediff_curr_prev(x['timestamp'], x['prev_timestamp'], i), axis= 1)\n",
    "    return None \n",
    "\n",
    "\n",
    "\n",
    "\n"
   ]
  },
  {
   "cell_type": "code",
   "execution_count": 48,
   "id": "3e1bf1d3",
   "metadata": {},
   "outputs": [],
   "source": [
    "timediff_corr_rows(fact_tables)"
   ]
  },
  {
   "cell_type": "code",
   "execution_count": 49,
   "id": "00028660",
   "metadata": {},
   "outputs": [
    {
     "data": {
      "text/html": [
       "<div>\n",
       "<style scoped>\n",
       "    .dataframe tbody tr th:only-of-type {\n",
       "        vertical-align: middle;\n",
       "    }\n",
       "\n",
       "    .dataframe tbody tr th {\n",
       "        vertical-align: top;\n",
       "    }\n",
       "\n",
       "    .dataframe thead th {\n",
       "        text-align: right;\n",
       "    }\n",
       "</style>\n",
       "<table border=\"1\" class=\"dataframe\">\n",
       "  <thead>\n",
       "    <tr style=\"text-align: right;\">\n",
       "      <th></th>\n",
       "      <th>timestamp</th>\n",
       "      <th>timediff</th>\n",
       "    </tr>\n",
       "  </thead>\n",
       "  <tbody>\n",
       "    <tr>\n",
       "      <th>0</th>\n",
       "      <td>2024-01-01 15:00:00</td>\n",
       "      <td>NaN</td>\n",
       "    </tr>\n",
       "    <tr>\n",
       "      <th>1</th>\n",
       "      <td>2024-01-01 15:04:00</td>\n",
       "      <td>240.0</td>\n",
       "    </tr>\n",
       "    <tr>\n",
       "      <th>2</th>\n",
       "      <td>2024-01-01 15:07:00</td>\n",
       "      <td>180.0</td>\n",
       "    </tr>\n",
       "    <tr>\n",
       "      <th>3</th>\n",
       "      <td>2024-01-01 15:09:00</td>\n",
       "      <td>120.0</td>\n",
       "    </tr>\n",
       "    <tr>\n",
       "      <th>4</th>\n",
       "      <td>2024-01-01 15:12:00</td>\n",
       "      <td>180.0</td>\n",
       "    </tr>\n",
       "    <tr>\n",
       "      <th>...</th>\n",
       "      <td>...</td>\n",
       "      <td>...</td>\n",
       "    </tr>\n",
       "    <tr>\n",
       "      <th>199</th>\n",
       "      <td>2024-01-02 10:24:00</td>\n",
       "      <td>120.0</td>\n",
       "    </tr>\n",
       "    <tr>\n",
       "      <th>200</th>\n",
       "      <td>2024-01-02 10:26:00</td>\n",
       "      <td>120.0</td>\n",
       "    </tr>\n",
       "    <tr>\n",
       "      <th>201</th>\n",
       "      <td>2024-01-02 10:27:00</td>\n",
       "      <td>60.0</td>\n",
       "    </tr>\n",
       "    <tr>\n",
       "      <th>202</th>\n",
       "      <td>2024-01-02 10:28:00</td>\n",
       "      <td>60.0</td>\n",
       "    </tr>\n",
       "    <tr>\n",
       "      <th>203</th>\n",
       "      <td>2024-01-02 10:28:00</td>\n",
       "      <td>0.0</td>\n",
       "    </tr>\n",
       "  </tbody>\n",
       "</table>\n",
       "<p>204 rows × 2 columns</p>\n",
       "</div>"
      ],
      "text/plain": [
       "              timestamp  timediff\n",
       "0   2024-01-01 15:00:00       NaN\n",
       "1   2024-01-01 15:04:00     240.0\n",
       "2   2024-01-01 15:07:00     180.0\n",
       "3   2024-01-01 15:09:00     120.0\n",
       "4   2024-01-01 15:12:00     180.0\n",
       "..                  ...       ...\n",
       "199 2024-01-02 10:24:00     120.0\n",
       "200 2024-01-02 10:26:00     120.0\n",
       "201 2024-01-02 10:27:00      60.0\n",
       "202 2024-01-02 10:28:00      60.0\n",
       "203 2024-01-02 10:28:00       0.0\n",
       "\n",
       "[204 rows x 2 columns]"
      ]
     },
     "execution_count": 49,
     "metadata": {},
     "output_type": "execute_result"
    }
   ],
   "source": [
    "fact_tables[0][['timestamp', 'timediff']]"
   ]
  },
  {
   "cell_type": "code",
   "execution_count": null,
   "id": "154facbd",
   "metadata": {},
   "outputs": [],
   "source": []
  },
  {
   "cell_type": "code",
   "execution_count": null,
   "id": "7a7a2397",
   "metadata": {},
   "outputs": [],
   "source": []
  },
  {
   "cell_type": "markdown",
   "id": "553700e5",
   "metadata": {},
   "source": [
    "### 2.8 And let's created trips. "
   ]
  },
  {
   "cell_type": "code",
   "execution_count": 50,
   "id": "eff96c6a",
   "metadata": {},
   "outputs": [],
   "source": [
    "#New Rides maker:\n",
    "\n",
    "#Definition of the NEW trip = when car is ignited without preceding ignition or with preceding engine-off and spent in this \n",
    "#switched off state more than half an hour (or....well....it's discussable). \n",
    "trips_timeout = 30*60; #in seconds\n",
    "\n",
    "\n",
    "def trips(df_list):\n",
    "    \"\"\"Takes all dataframes and creates trips division in them\"\"\"\n",
    "    def new_trips_flager(timediff, curr_ign, prev_ign, index_of_df):\n",
    "        new_trip = 0\n",
    "        if (timediff > trips_timeout and curr_ign == 1 and prev_ign == 0) or (np.isnan(timediff) and np.isnan(prev_ign) and\n",
    "                                                                             curr_ign == 1): \n",
    "            return 1 \n",
    "        else: \n",
    "            return 0 \n",
    "#         except ValueError: \n",
    "#             print(f'Distance variable(s) is/are incorrect in {index_of_df} df')\n",
    "    \n",
    "    def prev_ign_status(df):\n",
    "        df['prev_fill_ignition'] = df.sort_values(['id', 'timestamp', 'seq_number']).groupby('id')['ignition_filled'].shift()\n",
    "        return None \n",
    "    \n",
    "    for i, df in enumerate(df_list): \n",
    "        prev_ign_status(df)\n",
    "        df['new_trip'] = df.sort_values(['id', 'timestamp']).apply(lambda x: new_trips_flager(x['timediff'], \n",
    "                                                                   x['ignition_filled'], x['prev_fill_ignition'], i), axis= 1)\n",
    "    return None \n",
    "\n",
    "\n",
    "#Rides seq_numbers (and ids for this batches): \n",
    "def trips_seq(df_list): \n",
    "    for df in df_list: \n",
    "        df['trip_id'] = df.sort_values(['id', 'timestamp', 'seq_number']).groupby('id')['new_trip'].cumsum()\n",
    "    return None"
   ]
  },
  {
   "cell_type": "code",
   "execution_count": 51,
   "id": "9d8fc75c",
   "metadata": {},
   "outputs": [],
   "source": [
    "trips(fact_tables)\n",
    "trips_seq(fact_tables)"
   ]
  },
  {
   "cell_type": "code",
   "execution_count": 52,
   "id": "f3ae8299",
   "metadata": {},
   "outputs": [
    {
     "data": {
      "text/plain": [
       "Index(['id', 'timestamp', 'seq_number', 'ignition', 'ignition_filled',\n",
       "       'odometer_m', 'pos', 'fuel_%', 'prev_pos', 'current_lat', 'current_lon',\n",
       "       'prev_lat', 'prev_lon', 'current_loc', 'prev_loc', 'gps_distance',\n",
       "       'prev_od', 'od_distance', 'prev_timestamp', 'timediff',\n",
       "       'prev_fill_ignition', 'new_trip', 'trip_id'],\n",
       "      dtype='object')"
      ]
     },
     "execution_count": 52,
     "metadata": {},
     "output_type": "execute_result"
    }
   ],
   "source": [
    "fact_tables[0].columns"
   ]
  },
  {
   "cell_type": "code",
   "execution_count": null,
   "id": "3f3f5f27",
   "metadata": {},
   "outputs": [],
   "source": []
  },
  {
   "cell_type": "markdown",
   "id": "a80673c2",
   "metadata": {},
   "source": [
    "### 2.9 Creation of resultive table (from all batches) "
   ]
  },
  {
   "cell_type": "code",
   "execution_count": 53,
   "id": "117fb958",
   "metadata": {},
   "outputs": [],
   "source": [
    "def intermidiate_resultative_table(df_list): \n",
    "    common_table = None\n",
    "    for i, df in enumerate(fact_tables): \n",
    "        fact_tables[i]=fact_tables[i][['id', 'trip_id', 'timestamp', 'seq_number', 'timediff',\n",
    "                                   'ignition_filled', 'odometer_m', 'prev_od', 'od_distance',  'current_loc', 'prev_loc',\n",
    "                                   'gps_distance', 'fuel_%']]\n",
    "        fact_tables[i].rename(columns={'seq_number':'event_sec_id', 'timediff': 'timespent', 'ignition_filled':'ignition_state', \n",
    "                                  'odometer_m':'curr_od_km', 'prev_od':'prev_od_km' \n",
    "                                  }, inplace=True)\n",
    "        if common_table is None: \n",
    "            common_table = fact_tables[i].copy()\n",
    "        else: \n",
    "            common_table = pd.concat([common_table, fact_tables[i]], copy=True)\n",
    "    return common_table\n",
    "    \n",
    "    \n",
    "    \n"
   ]
  },
  {
   "cell_type": "code",
   "execution_count": 54,
   "id": "f87f0a2a",
   "metadata": {},
   "outputs": [
    {
     "name": "stderr",
     "output_type": "stream",
     "text": [
      "C:\\Users\\Yevhen\\AppData\\Local\\Temp\\ipykernel_15648\\743787015.py:7: SettingWithCopyWarning: \n",
      "A value is trying to be set on a copy of a slice from a DataFrame\n",
      "\n",
      "See the caveats in the documentation: https://pandas.pydata.org/pandas-docs/stable/user_guide/indexing.html#returning-a-view-versus-a-copy\n",
      "  fact_tables[i].rename(columns={'seq_number':'event_sec_id', 'timediff': 'timespent', 'ignition_filled':'ignition_state',\n",
      "C:\\Users\\Yevhen\\AppData\\Local\\Temp\\ipykernel_15648\\743787015.py:7: SettingWithCopyWarning: \n",
      "A value is trying to be set on a copy of a slice from a DataFrame\n",
      "\n",
      "See the caveats in the documentation: https://pandas.pydata.org/pandas-docs/stable/user_guide/indexing.html#returning-a-view-versus-a-copy\n",
      "  fact_tables[i].rename(columns={'seq_number':'event_sec_id', 'timediff': 'timespent', 'ignition_filled':'ignition_state',\n",
      "C:\\Users\\Yevhen\\AppData\\Local\\Temp\\ipykernel_15648\\743787015.py:7: SettingWithCopyWarning: \n",
      "A value is trying to be set on a copy of a slice from a DataFrame\n",
      "\n",
      "See the caveats in the documentation: https://pandas.pydata.org/pandas-docs/stable/user_guide/indexing.html#returning-a-view-versus-a-copy\n",
      "  fact_tables[i].rename(columns={'seq_number':'event_sec_id', 'timediff': 'timespent', 'ignition_filled':'ignition_state',\n",
      "C:\\Users\\Yevhen\\AppData\\Local\\Temp\\ipykernel_15648\\743787015.py:7: SettingWithCopyWarning: \n",
      "A value is trying to be set on a copy of a slice from a DataFrame\n",
      "\n",
      "See the caveats in the documentation: https://pandas.pydata.org/pandas-docs/stable/user_guide/indexing.html#returning-a-view-versus-a-copy\n",
      "  fact_tables[i].rename(columns={'seq_number':'event_sec_id', 'timediff': 'timespent', 'ignition_filled':'ignition_state',\n",
      "C:\\Users\\Yevhen\\AppData\\Local\\Temp\\ipykernel_15648\\743787015.py:7: SettingWithCopyWarning: \n",
      "A value is trying to be set on a copy of a slice from a DataFrame\n",
      "\n",
      "See the caveats in the documentation: https://pandas.pydata.org/pandas-docs/stable/user_guide/indexing.html#returning-a-view-versus-a-copy\n",
      "  fact_tables[i].rename(columns={'seq_number':'event_sec_id', 'timediff': 'timespent', 'ignition_filled':'ignition_state',\n"
     ]
    }
   ],
   "source": [
    "common_table = intermidiate_resultative_table(fact_tables)"
   ]
  },
  {
   "cell_type": "code",
   "execution_count": 55,
   "id": "5f0674a1",
   "metadata": {
    "scrolled": false
   },
   "outputs": [
    {
     "data": {
      "text/plain": [
       "Index(['id', 'trip_id', 'timestamp', 'event_sec_id', 'timespent',\n",
       "       'ignition_state', 'curr_od_km', 'prev_od_km', 'od_distance',\n",
       "       'current_loc', 'prev_loc', 'gps_distance', 'fuel_%'],\n",
       "      dtype='object')"
      ]
     },
     "execution_count": 55,
     "metadata": {},
     "output_type": "execute_result"
    }
   ],
   "source": [
    "common_table.columns"
   ]
  },
  {
   "cell_type": "code",
   "execution_count": 56,
   "id": "287030ed",
   "metadata": {},
   "outputs": [],
   "source": [
    "#fact_tables[2]['gps_distance'] = fact_tables[2].sort_values(['id', 'timestamp']).apply(lambda x: distance_calc(x['current_loc'], x['prev_loc']), axis= 1)"
   ]
  },
  {
   "cell_type": "code",
   "execution_count": null,
   "id": "6964bc33",
   "metadata": {},
   "outputs": [],
   "source": []
  },
  {
   "cell_type": "code",
   "execution_count": 57,
   "id": "43b53071",
   "metadata": {},
   "outputs": [],
   "source": [
    "##Need an id for sections in one trip: \n",
    "common_table['trip_section'] = common_table.sort_values(['id', 'trip_id','timestamp', 'event_sec_id']).groupby(['id', 'trip_id'])['gps_distance'].cumcount()\n",
    "common_table.loc[common_table.trip_section==0, 'timespent']=0"
   ]
  },
  {
   "cell_type": "code",
   "execution_count": 58,
   "id": "e75ea53d",
   "metadata": {
    "scrolled": false
   },
   "outputs": [],
   "source": [
    "sample = common_table.copy()"
   ]
  },
  {
   "cell_type": "code",
   "execution_count": 59,
   "id": "c5ba5747",
   "metadata": {},
   "outputs": [
    {
     "data": {
      "text/html": [
       "<div>\n",
       "<style scoped>\n",
       "    .dataframe tbody tr th:only-of-type {\n",
       "        vertical-align: middle;\n",
       "    }\n",
       "\n",
       "    .dataframe tbody tr th {\n",
       "        vertical-align: top;\n",
       "    }\n",
       "\n",
       "    .dataframe thead th {\n",
       "        text-align: right;\n",
       "    }\n",
       "</style>\n",
       "<table border=\"1\" class=\"dataframe\">\n",
       "  <thead>\n",
       "    <tr style=\"text-align: right;\">\n",
       "      <th></th>\n",
       "      <th>id</th>\n",
       "      <th>trip_id</th>\n",
       "      <th>timestamp</th>\n",
       "      <th>event_sec_id</th>\n",
       "      <th>timespent</th>\n",
       "      <th>ignition_state</th>\n",
       "      <th>curr_od_km</th>\n",
       "      <th>prev_od_km</th>\n",
       "      <th>od_distance</th>\n",
       "      <th>current_loc</th>\n",
       "      <th>prev_loc</th>\n",
       "      <th>gps_distance</th>\n",
       "      <th>fuel_%</th>\n",
       "      <th>trip_section</th>\n",
       "    </tr>\n",
       "  </thead>\n",
       "  <tbody>\n",
       "    <tr>\n",
       "      <th>0</th>\n",
       "      <td>334455</td>\n",
       "      <td>1</td>\n",
       "      <td>2024-01-01 15:00:00</td>\n",
       "      <td>1</td>\n",
       "      <td>0.0</td>\n",
       "      <td>1</td>\n",
       "      <td>NaN</td>\n",
       "      <td>NaN</td>\n",
       "      <td>NaN</td>\n",
       "      <td>(53.332025, -6.275705)</td>\n",
       "      <td>NaN</td>\n",
       "      <td>NaN</td>\n",
       "      <td>100.0</td>\n",
       "      <td>0</td>\n",
       "    </tr>\n",
       "    <tr>\n",
       "      <th>1</th>\n",
       "      <td>334455</td>\n",
       "      <td>1</td>\n",
       "      <td>2024-01-01 15:04:00</td>\n",
       "      <td>1</td>\n",
       "      <td>240.0</td>\n",
       "      <td>1</td>\n",
       "      <td>NaN</td>\n",
       "      <td>NaN</td>\n",
       "      <td>NaN</td>\n",
       "      <td>(53.331461, -6.30369)</td>\n",
       "      <td>(53.332025, -6.275705)</td>\n",
       "      <td>1865.458790</td>\n",
       "      <td>NaN</td>\n",
       "      <td>1</td>\n",
       "    </tr>\n",
       "    <tr>\n",
       "      <th>2</th>\n",
       "      <td>334455</td>\n",
       "      <td>1</td>\n",
       "      <td>2024-01-01 15:07:00</td>\n",
       "      <td>1</td>\n",
       "      <td>180.0</td>\n",
       "      <td>1</td>\n",
       "      <td>NaN</td>\n",
       "      <td>NaN</td>\n",
       "      <td>NaN</td>\n",
       "      <td>(53.330896, -6.331675)</td>\n",
       "      <td>(53.331461, -6.30369)</td>\n",
       "      <td>1865.487137</td>\n",
       "      <td>NaN</td>\n",
       "      <td>2</td>\n",
       "    </tr>\n",
       "    <tr>\n",
       "      <th>3</th>\n",
       "      <td>334455</td>\n",
       "      <td>1</td>\n",
       "      <td>2024-01-01 15:09:00</td>\n",
       "      <td>1</td>\n",
       "      <td>120.0</td>\n",
       "      <td>1</td>\n",
       "      <td>NaN</td>\n",
       "      <td>NaN</td>\n",
       "      <td>NaN</td>\n",
       "      <td>(53.330332, -6.35966)</td>\n",
       "      <td>(53.330896, -6.331675)</td>\n",
       "      <td>1865.507988</td>\n",
       "      <td>NaN</td>\n",
       "      <td>3</td>\n",
       "    </tr>\n",
       "    <tr>\n",
       "      <th>4</th>\n",
       "      <td>334455</td>\n",
       "      <td>1</td>\n",
       "      <td>2024-01-01 15:12:00</td>\n",
       "      <td>1</td>\n",
       "      <td>180.0</td>\n",
       "      <td>1</td>\n",
       "      <td>NaN</td>\n",
       "      <td>NaN</td>\n",
       "      <td>NaN</td>\n",
       "      <td>(53.329767, -6.387645)</td>\n",
       "      <td>(53.330332, -6.35966)</td>\n",
       "      <td>1865.536334</td>\n",
       "      <td>NaN</td>\n",
       "      <td>4</td>\n",
       "    </tr>\n",
       "    <tr>\n",
       "      <th>...</th>\n",
       "      <td>...</td>\n",
       "      <td>...</td>\n",
       "      <td>...</td>\n",
       "      <td>...</td>\n",
       "      <td>...</td>\n",
       "      <td>...</td>\n",
       "      <td>...</td>\n",
       "      <td>...</td>\n",
       "      <td>...</td>\n",
       "      <td>...</td>\n",
       "      <td>...</td>\n",
       "      <td>...</td>\n",
       "      <td>...</td>\n",
       "      <td>...</td>\n",
       "    </tr>\n",
       "    <tr>\n",
       "      <th>725</th>\n",
       "      <td>334459</td>\n",
       "      <td>3</td>\n",
       "      <td>2024-01-07 19:02:53</td>\n",
       "      <td>1</td>\n",
       "      <td>69.0</td>\n",
       "      <td>1</td>\n",
       "      <td>5107.81</td>\n",
       "      <td>5105.95</td>\n",
       "      <td>1860.0</td>\n",
       "      <td>(50.145249, 8.641091)</td>\n",
       "      <td>(50.15498, 8.619314)</td>\n",
       "      <td>1895.818315</td>\n",
       "      <td>51.0</td>\n",
       "      <td>196</td>\n",
       "    </tr>\n",
       "    <tr>\n",
       "      <th>726</th>\n",
       "      <td>334459</td>\n",
       "      <td>3</td>\n",
       "      <td>2024-01-07 19:03:34</td>\n",
       "      <td>1</td>\n",
       "      <td>41.0</td>\n",
       "      <td>1</td>\n",
       "      <td>5109.67</td>\n",
       "      <td>5107.81</td>\n",
       "      <td>1860.0</td>\n",
       "      <td>(50.135518, 8.662869)</td>\n",
       "      <td>(50.145249, 8.641091)</td>\n",
       "      <td>1896.135262</td>\n",
       "      <td>51.0</td>\n",
       "      <td>197</td>\n",
       "    </tr>\n",
       "    <tr>\n",
       "      <th>727</th>\n",
       "      <td>334459</td>\n",
       "      <td>3</td>\n",
       "      <td>2024-01-07 19:04:39</td>\n",
       "      <td>1</td>\n",
       "      <td>65.0</td>\n",
       "      <td>1</td>\n",
       "      <td>5111.53</td>\n",
       "      <td>5109.67</td>\n",
       "      <td>1860.0</td>\n",
       "      <td>(50.125787, 8.684646)</td>\n",
       "      <td>(50.135518, 8.662869)</td>\n",
       "      <td>1896.334799</td>\n",
       "      <td>51.0</td>\n",
       "      <td>198</td>\n",
       "    </tr>\n",
       "    <tr>\n",
       "      <th>728</th>\n",
       "      <td>334459</td>\n",
       "      <td>3</td>\n",
       "      <td>2024-01-07 19:05:30</td>\n",
       "      <td>1</td>\n",
       "      <td>51.0</td>\n",
       "      <td>1</td>\n",
       "      <td>5113.39</td>\n",
       "      <td>5111.53</td>\n",
       "      <td>1860.0</td>\n",
       "      <td>(50.116055, 8.706423)</td>\n",
       "      <td>(50.125787, 8.684646)</td>\n",
       "      <td>1896.656507</td>\n",
       "      <td>50.0</td>\n",
       "      <td>199</td>\n",
       "    </tr>\n",
       "    <tr>\n",
       "      <th>729</th>\n",
       "      <td>334459</td>\n",
       "      <td>3</td>\n",
       "      <td>2024-01-07 19:05:57</td>\n",
       "      <td>1</td>\n",
       "      <td>27.0</td>\n",
       "      <td>1</td>\n",
       "      <td>5115.25</td>\n",
       "      <td>5113.39</td>\n",
       "      <td>1860.0</td>\n",
       "      <td>(50.106324, 8.7282)</td>\n",
       "      <td>(50.116055, 8.706423)</td>\n",
       "      <td>1896.851231</td>\n",
       "      <td>50.0</td>\n",
       "      <td>200</td>\n",
       "    </tr>\n",
       "  </tbody>\n",
       "</table>\n",
       "<p>2021 rows × 14 columns</p>\n",
       "</div>"
      ],
      "text/plain": [
       "         id  trip_id           timestamp  event_sec_id  timespent  \\\n",
       "0    334455        1 2024-01-01 15:00:00             1        0.0   \n",
       "1    334455        1 2024-01-01 15:04:00             1      240.0   \n",
       "2    334455        1 2024-01-01 15:07:00             1      180.0   \n",
       "3    334455        1 2024-01-01 15:09:00             1      120.0   \n",
       "4    334455        1 2024-01-01 15:12:00             1      180.0   \n",
       "..      ...      ...                 ...           ...        ...   \n",
       "725  334459        3 2024-01-07 19:02:53             1       69.0   \n",
       "726  334459        3 2024-01-07 19:03:34             1       41.0   \n",
       "727  334459        3 2024-01-07 19:04:39             1       65.0   \n",
       "728  334459        3 2024-01-07 19:05:30             1       51.0   \n",
       "729  334459        3 2024-01-07 19:05:57             1       27.0   \n",
       "\n",
       "     ignition_state  curr_od_km  prev_od_km  od_distance  \\\n",
       "0                 1         NaN         NaN          NaN   \n",
       "1                 1         NaN         NaN          NaN   \n",
       "2                 1         NaN         NaN          NaN   \n",
       "3                 1         NaN         NaN          NaN   \n",
       "4                 1         NaN         NaN          NaN   \n",
       "..              ...         ...         ...          ...   \n",
       "725               1     5107.81     5105.95       1860.0   \n",
       "726               1     5109.67     5107.81       1860.0   \n",
       "727               1     5111.53     5109.67       1860.0   \n",
       "728               1     5113.39     5111.53       1860.0   \n",
       "729               1     5115.25     5113.39       1860.0   \n",
       "\n",
       "                current_loc                prev_loc  gps_distance  fuel_%  \\\n",
       "0    (53.332025, -6.275705)                     NaN           NaN   100.0   \n",
       "1     (53.331461, -6.30369)  (53.332025, -6.275705)   1865.458790     NaN   \n",
       "2    (53.330896, -6.331675)   (53.331461, -6.30369)   1865.487137     NaN   \n",
       "3     (53.330332, -6.35966)  (53.330896, -6.331675)   1865.507988     NaN   \n",
       "4    (53.329767, -6.387645)   (53.330332, -6.35966)   1865.536334     NaN   \n",
       "..                      ...                     ...           ...     ...   \n",
       "725   (50.145249, 8.641091)    (50.15498, 8.619314)   1895.818315    51.0   \n",
       "726   (50.135518, 8.662869)   (50.145249, 8.641091)   1896.135262    51.0   \n",
       "727   (50.125787, 8.684646)   (50.135518, 8.662869)   1896.334799    51.0   \n",
       "728   (50.116055, 8.706423)   (50.125787, 8.684646)   1896.656507    50.0   \n",
       "729     (50.106324, 8.7282)   (50.116055, 8.706423)   1896.851231    50.0   \n",
       "\n",
       "     trip_section  \n",
       "0               0  \n",
       "1               1  \n",
       "2               2  \n",
       "3               3  \n",
       "4               4  \n",
       "..            ...  \n",
       "725           196  \n",
       "726           197  \n",
       "727           198  \n",
       "728           199  \n",
       "729           200  \n",
       "\n",
       "[2021 rows x 14 columns]"
      ]
     },
     "execution_count": 59,
     "metadata": {},
     "output_type": "execute_result"
    }
   ],
   "source": [
    "sample"
   ]
  },
  {
   "cell_type": "code",
   "execution_count": 60,
   "id": "a5cb7e26",
   "metadata": {},
   "outputs": [
    {
     "data": {
      "text/html": [
       "<div>\n",
       "<style scoped>\n",
       "    .dataframe tbody tr th:only-of-type {\n",
       "        vertical-align: middle;\n",
       "    }\n",
       "\n",
       "    .dataframe tbody tr th {\n",
       "        vertical-align: top;\n",
       "    }\n",
       "\n",
       "    .dataframe thead th {\n",
       "        text-align: right;\n",
       "    }\n",
       "</style>\n",
       "<table border=\"1\" class=\"dataframe\">\n",
       "  <thead>\n",
       "    <tr style=\"text-align: right;\">\n",
       "      <th></th>\n",
       "      <th>id</th>\n",
       "      <th>trip_id</th>\n",
       "      <th>timestamp</th>\n",
       "      <th>event_sec_id</th>\n",
       "      <th>timespent</th>\n",
       "      <th>ignition_state</th>\n",
       "      <th>curr_od_km</th>\n",
       "      <th>prev_od_km</th>\n",
       "      <th>od_distance</th>\n",
       "      <th>current_loc</th>\n",
       "      <th>prev_loc</th>\n",
       "      <th>gps_distance</th>\n",
       "      <th>fuel_%</th>\n",
       "      <th>trip_section</th>\n",
       "    </tr>\n",
       "  </thead>\n",
       "  <tbody>\n",
       "    <tr>\n",
       "      <th>0</th>\n",
       "      <td>334455</td>\n",
       "      <td>1</td>\n",
       "      <td>2024-01-01 15:00:00</td>\n",
       "      <td>1</td>\n",
       "      <td>0.0</td>\n",
       "      <td>1</td>\n",
       "      <td>NaN</td>\n",
       "      <td>NaN</td>\n",
       "      <td>NaN</td>\n",
       "      <td>(53.332025, -6.275705)</td>\n",
       "      <td>NaN</td>\n",
       "      <td>NaN</td>\n",
       "      <td>100.0</td>\n",
       "      <td>0</td>\n",
       "    </tr>\n",
       "    <tr>\n",
       "      <th>1</th>\n",
       "      <td>334455</td>\n",
       "      <td>1</td>\n",
       "      <td>2024-01-01 15:04:00</td>\n",
       "      <td>1</td>\n",
       "      <td>240.0</td>\n",
       "      <td>1</td>\n",
       "      <td>NaN</td>\n",
       "      <td>NaN</td>\n",
       "      <td>NaN</td>\n",
       "      <td>(53.331461, -6.30369)</td>\n",
       "      <td>(53.332025, -6.275705)</td>\n",
       "      <td>1865.458790</td>\n",
       "      <td>NaN</td>\n",
       "      <td>1</td>\n",
       "    </tr>\n",
       "    <tr>\n",
       "      <th>2</th>\n",
       "      <td>334455</td>\n",
       "      <td>1</td>\n",
       "      <td>2024-01-01 15:07:00</td>\n",
       "      <td>1</td>\n",
       "      <td>180.0</td>\n",
       "      <td>1</td>\n",
       "      <td>NaN</td>\n",
       "      <td>NaN</td>\n",
       "      <td>NaN</td>\n",
       "      <td>(53.330896, -6.331675)</td>\n",
       "      <td>(53.331461, -6.30369)</td>\n",
       "      <td>1865.487137</td>\n",
       "      <td>NaN</td>\n",
       "      <td>2</td>\n",
       "    </tr>\n",
       "    <tr>\n",
       "      <th>3</th>\n",
       "      <td>334455</td>\n",
       "      <td>1</td>\n",
       "      <td>2024-01-01 15:09:00</td>\n",
       "      <td>1</td>\n",
       "      <td>120.0</td>\n",
       "      <td>1</td>\n",
       "      <td>NaN</td>\n",
       "      <td>NaN</td>\n",
       "      <td>NaN</td>\n",
       "      <td>(53.330332, -6.35966)</td>\n",
       "      <td>(53.330896, -6.331675)</td>\n",
       "      <td>1865.507988</td>\n",
       "      <td>NaN</td>\n",
       "      <td>3</td>\n",
       "    </tr>\n",
       "    <tr>\n",
       "      <th>4</th>\n",
       "      <td>334455</td>\n",
       "      <td>1</td>\n",
       "      <td>2024-01-01 15:12:00</td>\n",
       "      <td>1</td>\n",
       "      <td>180.0</td>\n",
       "      <td>1</td>\n",
       "      <td>NaN</td>\n",
       "      <td>NaN</td>\n",
       "      <td>NaN</td>\n",
       "      <td>(53.329767, -6.387645)</td>\n",
       "      <td>(53.330332, -6.35966)</td>\n",
       "      <td>1865.536334</td>\n",
       "      <td>NaN</td>\n",
       "      <td>4</td>\n",
       "    </tr>\n",
       "    <tr>\n",
       "      <th>...</th>\n",
       "      <td>...</td>\n",
       "      <td>...</td>\n",
       "      <td>...</td>\n",
       "      <td>...</td>\n",
       "      <td>...</td>\n",
       "      <td>...</td>\n",
       "      <td>...</td>\n",
       "      <td>...</td>\n",
       "      <td>...</td>\n",
       "      <td>...</td>\n",
       "      <td>...</td>\n",
       "      <td>...</td>\n",
       "      <td>...</td>\n",
       "      <td>...</td>\n",
       "    </tr>\n",
       "    <tr>\n",
       "      <th>725</th>\n",
       "      <td>334459</td>\n",
       "      <td>3</td>\n",
       "      <td>2024-01-07 19:02:53</td>\n",
       "      <td>1</td>\n",
       "      <td>69.0</td>\n",
       "      <td>1</td>\n",
       "      <td>5107.81</td>\n",
       "      <td>5105.95</td>\n",
       "      <td>1860.0</td>\n",
       "      <td>(50.145249, 8.641091)</td>\n",
       "      <td>(50.15498, 8.619314)</td>\n",
       "      <td>1895.818315</td>\n",
       "      <td>51.0</td>\n",
       "      <td>196</td>\n",
       "    </tr>\n",
       "    <tr>\n",
       "      <th>726</th>\n",
       "      <td>334459</td>\n",
       "      <td>3</td>\n",
       "      <td>2024-01-07 19:03:34</td>\n",
       "      <td>1</td>\n",
       "      <td>41.0</td>\n",
       "      <td>1</td>\n",
       "      <td>5109.67</td>\n",
       "      <td>5107.81</td>\n",
       "      <td>1860.0</td>\n",
       "      <td>(50.135518, 8.662869)</td>\n",
       "      <td>(50.145249, 8.641091)</td>\n",
       "      <td>1896.135262</td>\n",
       "      <td>51.0</td>\n",
       "      <td>197</td>\n",
       "    </tr>\n",
       "    <tr>\n",
       "      <th>727</th>\n",
       "      <td>334459</td>\n",
       "      <td>3</td>\n",
       "      <td>2024-01-07 19:04:39</td>\n",
       "      <td>1</td>\n",
       "      <td>65.0</td>\n",
       "      <td>1</td>\n",
       "      <td>5111.53</td>\n",
       "      <td>5109.67</td>\n",
       "      <td>1860.0</td>\n",
       "      <td>(50.125787, 8.684646)</td>\n",
       "      <td>(50.135518, 8.662869)</td>\n",
       "      <td>1896.334799</td>\n",
       "      <td>51.0</td>\n",
       "      <td>198</td>\n",
       "    </tr>\n",
       "    <tr>\n",
       "      <th>728</th>\n",
       "      <td>334459</td>\n",
       "      <td>3</td>\n",
       "      <td>2024-01-07 19:05:30</td>\n",
       "      <td>1</td>\n",
       "      <td>51.0</td>\n",
       "      <td>1</td>\n",
       "      <td>5113.39</td>\n",
       "      <td>5111.53</td>\n",
       "      <td>1860.0</td>\n",
       "      <td>(50.116055, 8.706423)</td>\n",
       "      <td>(50.125787, 8.684646)</td>\n",
       "      <td>1896.656507</td>\n",
       "      <td>50.0</td>\n",
       "      <td>199</td>\n",
       "    </tr>\n",
       "    <tr>\n",
       "      <th>729</th>\n",
       "      <td>334459</td>\n",
       "      <td>3</td>\n",
       "      <td>2024-01-07 19:05:57</td>\n",
       "      <td>1</td>\n",
       "      <td>27.0</td>\n",
       "      <td>1</td>\n",
       "      <td>5115.25</td>\n",
       "      <td>5113.39</td>\n",
       "      <td>1860.0</td>\n",
       "      <td>(50.106324, 8.7282)</td>\n",
       "      <td>(50.116055, 8.706423)</td>\n",
       "      <td>1896.851231</td>\n",
       "      <td>50.0</td>\n",
       "      <td>200</td>\n",
       "    </tr>\n",
       "  </tbody>\n",
       "</table>\n",
       "<p>2021 rows × 14 columns</p>\n",
       "</div>"
      ],
      "text/plain": [
       "         id  trip_id           timestamp  event_sec_id  timespent  \\\n",
       "0    334455        1 2024-01-01 15:00:00             1        0.0   \n",
       "1    334455        1 2024-01-01 15:04:00             1      240.0   \n",
       "2    334455        1 2024-01-01 15:07:00             1      180.0   \n",
       "3    334455        1 2024-01-01 15:09:00             1      120.0   \n",
       "4    334455        1 2024-01-01 15:12:00             1      180.0   \n",
       "..      ...      ...                 ...           ...        ...   \n",
       "725  334459        3 2024-01-07 19:02:53             1       69.0   \n",
       "726  334459        3 2024-01-07 19:03:34             1       41.0   \n",
       "727  334459        3 2024-01-07 19:04:39             1       65.0   \n",
       "728  334459        3 2024-01-07 19:05:30             1       51.0   \n",
       "729  334459        3 2024-01-07 19:05:57             1       27.0   \n",
       "\n",
       "     ignition_state  curr_od_km  prev_od_km  od_distance  \\\n",
       "0                 1         NaN         NaN          NaN   \n",
       "1                 1         NaN         NaN          NaN   \n",
       "2                 1         NaN         NaN          NaN   \n",
       "3                 1         NaN         NaN          NaN   \n",
       "4                 1         NaN         NaN          NaN   \n",
       "..              ...         ...         ...          ...   \n",
       "725               1     5107.81     5105.95       1860.0   \n",
       "726               1     5109.67     5107.81       1860.0   \n",
       "727               1     5111.53     5109.67       1860.0   \n",
       "728               1     5113.39     5111.53       1860.0   \n",
       "729               1     5115.25     5113.39       1860.0   \n",
       "\n",
       "                current_loc                prev_loc  gps_distance  fuel_%  \\\n",
       "0    (53.332025, -6.275705)                     NaN           NaN   100.0   \n",
       "1     (53.331461, -6.30369)  (53.332025, -6.275705)   1865.458790     NaN   \n",
       "2    (53.330896, -6.331675)   (53.331461, -6.30369)   1865.487137     NaN   \n",
       "3     (53.330332, -6.35966)  (53.330896, -6.331675)   1865.507988     NaN   \n",
       "4    (53.329767, -6.387645)   (53.330332, -6.35966)   1865.536334     NaN   \n",
       "..                      ...                     ...           ...     ...   \n",
       "725   (50.145249, 8.641091)    (50.15498, 8.619314)   1895.818315    51.0   \n",
       "726   (50.135518, 8.662869)   (50.145249, 8.641091)   1896.135262    51.0   \n",
       "727   (50.125787, 8.684646)   (50.135518, 8.662869)   1896.334799    51.0   \n",
       "728   (50.116055, 8.706423)   (50.125787, 8.684646)   1896.656507    50.0   \n",
       "729     (50.106324, 8.7282)   (50.116055, 8.706423)   1896.851231    50.0   \n",
       "\n",
       "     trip_section  \n",
       "0               0  \n",
       "1               1  \n",
       "2               2  \n",
       "3               3  \n",
       "4               4  \n",
       "..            ...  \n",
       "725           196  \n",
       "726           197  \n",
       "727           198  \n",
       "728           199  \n",
       "729           200  \n",
       "\n",
       "[2021 rows x 14 columns]"
      ]
     },
     "execution_count": 60,
     "metadata": {},
     "output_type": "execute_result"
    }
   ],
   "source": [
    "sample"
   ]
  },
  {
   "cell_type": "markdown",
   "id": "a42d2978",
   "metadata": {},
   "source": [
    "### 2.10 Extracting distance covered from odometer, even if it reports only once per long period"
   ]
  },
  {
   "cell_type": "code",
   "execution_count": 61,
   "id": "d312674d",
   "metadata": {},
   "outputs": [],
   "source": [
    "#Function to set distance, find speed and find\n",
    "\n",
    "def speed_and_distance(df_input): \n",
    "    \"\"\"Function to extract corrected distance and to find speed (to make checks)\"\"\"\n",
    "    \n",
    "    speed_limit = 250_000/3600 #let's set some speed, over which we don't believe over vehiecles can go. \n",
    "    \n",
    "    def distance_choicer(df_row):\n",
    "        \"To choose distance according to conditions\"\n",
    "        dist = 0 \n",
    "        if df_row['odometer_valuelability'] and df_row['od_distance']>=0 and not(np.isnan(df_row['od_distance'])):\n",
    "            #and df_row['od_speed'] <= speed_limit:\n",
    "                dist = df_row['od_distance']\n",
    "        elif df_row['gps_distance']>=0 and df_row['gps_speed']>=0 and  not(np.isnan(df_row['gps_distance'])):\n",
    "              #and df_row['gps_speed']<= speed_limit:\n",
    "                dist = df_row['gps_distance']\n",
    "        return dist\n",
    "\n",
    "    def speed_choicer(df_row):\n",
    "        \"To find speed according to rules\"\n",
    "        spd = 0 \n",
    "        if df_row['odometer_valuelability'] and df_row['od_distance']>=0 and not(np.isnan(df_row['od_speed']))\\\n",
    "            and df_row['od_speed'] <= speed_limit:\n",
    "                spd = df_row['od_speed']\n",
    "        elif df_row['gps_distance']>=0 and df_row['gps_speed']>=0 and  not(np.isnan(df_row['gps_speed']))\\\n",
    "              and df_row['gps_speed']<= speed_limit:\n",
    "                spd = df_row['gps_speed']\n",
    "        return spd\n",
    "    \n",
    "    df = df_input.copy()\n",
    "    groupby= df.sort_values(['id', 'trip_id','timestamp', 'event_sec_id']).groupby(['id', 'trip_id'], as_index=False)\\\n",
    "                ['curr_od_km']\n",
    "    first_val=groupby.first()\n",
    "    min_val = groupby.min()\n",
    "\n",
    "\n",
    "    min_val=min_val.merge(first_val, on=['id', 'trip_id'])\n",
    "    min_val['odometer_valuelability'] = min_val['curr_od_km_x'] == min_val['curr_od_km_y']\n",
    "    df['trip_section'] = df.sort_values(['id', 'trip_id','timestamp', 'event_sec_id']).groupby(['id', 'trip_id'])['gps_distance'].cumcount()\n",
    "    #time_commulative to find avg speed then. \n",
    "    \n",
    "    min_val=min_val[['id', 'trip_id', 'odometer_valuelability']]\n",
    "\n",
    "    df=df.merge(min_val, on = ['id', 'trip_id'], how='left')\n",
    "    #df['trip_section'] = df.sort_values(['id', 'trip_id','timestamp', 'event_sec_id']).groupby(['id', 'trip_id'])['gps_distance'].cumcount()\n",
    "\n",
    "    \n",
    "    \n",
    "    df['is_odometer'] = df.apply(lambda x:0 if np.isnan(x['curr_od_km']) or x['ignition_state']==0 else 1 , axis= 1)\\\n",
    "    #     .groupby(['id', 'trip_id']).cumsum()\n",
    "    df['odometer_group']=df.groupby(['id', 'trip_id'])['is_odometer'].cumsum()\n",
    "    \n",
    "    od_values=df.groupby(['id', 'trip_id', 'odometer_group'], as_index=False)['curr_od_km'].max() \n",
    "    od_values=od_values.loc[od_values['odometer_group'] > 0]\n",
    "    od_values['od_distance']=od_values.sort_values(['id','trip_id','odometer_group']).groupby(['id', 'trip_id'])['curr_od_km']\\\n",
    "                                .transform(lambda x:( x - x.shift(1))*1000)# ['od_diff']\n",
    "    #shift(-1)\n",
    "    timecum = df.loc[(df['trip_section']>0)&(df['is_odometer']!= 1)&(df['odometer_group']!=0)]\\\n",
    "                .groupby(['id', 'trip_id', 'odometer_group'], as_index=False)['timespent'].sum()\n",
    "    timeFirst = df.loc[(df['trip_section']!=0)&(df['is_odometer']== 1)&(df['odometer_group']!=0)]\\\n",
    "                .groupby(['id', 'trip_id', 'odometer_group'], as_index=False)['timespent'].max()\n",
    "    timeFirst.rename(columns = {'timespent':'quant_time'}, inplace=True)\n",
    "    timeFirst=timeFirst.merge(timecum, on=['id', 'trip_id', 'odometer_group'], how='outer').fillna(0)\n",
    "    timeFirst.sort_values(['id', 'trip_id', 'odometer_group'], inplace=True)\n",
    "    timeFirst['prev_timecum']=timeFirst.sort_values(['id', 'trip_id', 'odometer_group']).groupby(['id', 'trip_id'])['timespent'].shift(1)\n",
    "    timeFirst['ttr']= timeFirst.quant_time+timeFirst.prev_timecum\n",
    "    timeFirst= timeFirst[['id', 'trip_id', 'odometer_group', 'ttr']]\n",
    "    \n",
    "    od_values=od_values.merge(timecum, on = ['id', 'trip_id', 'odometer_group'], how = 'left')\n",
    "    od_values=od_values.merge(timeFirst, on=['id', 'trip_id', 'odometer_group'])\n",
    "\n",
    "    od_values['avg_od_speed']=od_values['od_distance']/od_values['ttr']\n",
    "    od_values['avg_od_speed']=od_values['avg_od_speed'].apply(lambda x: np.nan if x<0 else x)\n",
    "    od_values['avg_od_speed']=od_values['avg_od_speed'].shift(-1)\n",
    "    od_values= od_values[['id', 'trip_id', 'odometer_group', 'avg_od_speed']]\n",
    "    od_values.drop_duplicates(subset=['id', 'trip_id', 'odometer_group'], inplace=True)\n",
    "    df=df.merge(od_values, on=['id','trip_id', 'odometer_group'], how = 'left')\n",
    "    \n",
    "    \n",
    "    #shifting speeds\n",
    "    s=df.loc[(df.is_odometer==1)]['avg_od_speed'].shift(1)\n",
    "    df=df.join(s, how='left', rsuffix='_2')\n",
    "    df['avg_od_speed']= df.apply(lambda x: x['avg_od_speed'] if x['is_odometer']==0 else x['avg_od_speed_2'] , axis=1)\n",
    "    #speeds for gps and odemeter\n",
    "    df['od_speed']=df['od_distance']/df['timespent']\n",
    "    df['gps_speed']=df['gps_distance']/df['timespent']\n",
    "    \n",
    "    df.loc[df.trip_section==0, ['gps_distance']]=0\n",
    "    df.loc[df.trip_section==0, ['od_distance']]=0\n",
    "    df.loc[df.trip_section==0, ['avg_od_speed']]=0\n",
    "    df.loc[df.trip_section==0, ['od_speed']]=0\n",
    "    df.loc[df.trip_section==0, ['gps_speed']]=0\n",
    "    \n",
    "   \n",
    "\n",
    "\n",
    "    df['distance'] = df.apply(distance_choicer, axis=1)\n",
    "    df['speed'] = df.apply(speed_choicer, axis= 1)\n",
    "    df=df[['id', 'trip_id', 'timestamp', 'event_sec_id', 'timespent',\n",
    "       'ignition_state', 'curr_od_km', 'prev_od_km', 'od_distance',\n",
    "       'current_loc', 'prev_loc', 'gps_distance', 'fuel_%', 'trip_section',\n",
    "       'odometer_valuelability', 'is_odometer', 'odometer_group',\n",
    "       'avg_od_speed', 'avg_od_speed_2', 'od_speed', 'gps_speed', 'distance',\n",
    "       'speed']]\n",
    "    df.loc[(df.gps_speed>speed_limit) & (df.od_speed>speed_limit),'avg_od_speed']= 0\n",
    "    df.loc[(df.gps_speed>speed_limit) & (df.od_speed>speed_limit),'avg_od_speed_2'] = 0\n",
    "    df.loc[(df.gps_speed>speed_limit) & (df.od_speed>speed_limit),'od_speed'] = 0\n",
    "    df.loc[(df.gps_speed>speed_limit) & (df.od_speed>speed_limit),'gps_speed'] = 0\n",
    "    #df.loc[(df.gps_speed>speed_limit) & (df.od_speed>speed_limit),'distance'] = 0 - no need. Sensor probably can send data \n",
    "    #like sequence of batches, doesn't mean vehicle covered this distance in few secs. \n",
    "    df.loc[(df.gps_speed>speed_limit) & (df.od_speed>speed_limit),'speed'] = 0\n",
    "\n",
    "\n",
    "    df.drop(df.loc[df.event_sec_id > 1].index, inplace=True)\n",
    "    df = df[['id', 'trip_id', 'trip_section', 'timestamp', 'timespent', \n",
    "                 'current_loc', 'prev_loc', 'fuel_%', 'speed', 'distance', 'avg_od_speed', 'gps_speed']]\n",
    "    return df"
   ]
  },
  {
   "cell_type": "code",
   "execution_count": 62,
   "id": "c2301dbf",
   "metadata": {},
   "outputs": [],
   "source": [
    "sample1=speed_and_distance(common_table)"
   ]
  },
  {
   "cell_type": "markdown",
   "id": "df6af369",
   "metadata": {},
   "source": [
    "### 2.11 Clearing fuel data"
   ]
  },
  {
   "cell_type": "code",
   "execution_count": 63,
   "id": "44f1ced9",
   "metadata": {},
   "outputs": [],
   "source": [
    "def fuel_cleaning(df_input):\n",
    "    \"\"\"To clear fuel change in table\"\"\"\n",
    "    \n",
    "    def fuel_percentage(df_row):\n",
    "        \"To put avg fuel change in table\"\n",
    "        res= np.nan\n",
    "        if df_row['is_fuel'] == 1:\n",
    "            res=df_row['fuel_%']\n",
    "        elif df_row['fuel_%_per_timespent'] >=0: \n",
    "            res=(-1)*df_row['timespent']*df_row['fuel_%_per_timespent']\n",
    "        return res\n",
    "\n",
    "    df=df_input.copy()\n",
    "    df['is_fuel'] =df.apply(lambda x:0 if np.isnan(x['fuel_%']) else 1, axis= 1)\n",
    "    df['fuel_seq']=df.sort_values(['id', 'trip_id', 'trip_section'])\\\n",
    "                            .groupby(['id', 'trip_id'])['is_fuel'].cumsum()\n",
    "    df['fuel_%'] = df.sort_values(['id', 'trip_id', 'timestamp']).groupby(['id', 'trip_id'])['fuel_%']\\\n",
    "            .fillna(method='ffill')\n",
    "    df_groupby = df.groupby(['id', 'trip_id', 'fuel_seq', 'fuel_%'], as_index=False).agg({ 'trip_section': 'nunique', \n",
    "                                                                                    'distance': 'sum', \n",
    "                                                                                    'timespent': 'sum'\n",
    "                                                                             })\n",
    "    df_groupby['delta_fuel'] = df_groupby.sort_values(['id', 'trip_id', 'fuel_seq'])\\\n",
    "                                .groupby(['id', 'trip_id'])['fuel_%'].transform(lambda x: x - x.shift(-1))\n",
    "    \n",
    "    df_groupby['fuel_%_per_timespent'] = df_groupby.delta_fuel/df_groupby.timespent\n",
    "    df_groupby['fuel_%_per_distance'] = df_groupby.delta_fuel/df_groupby.distance\n",
    "    df_groupby= df_groupby[['id', 'trip_id', 'fuel_seq', 'delta_fuel', 'fuel_%_per_distance', 'fuel_%_per_timespent']]\n",
    "    df=df.merge(df_groupby, on=['id', 'trip_id', 'fuel_seq'], how='left')\n",
    "    df.replace([np.inf, -np.inf], np.nan, inplace=True)\n",
    "    \n",
    "    #Calculate fuel percents for many rows where there is none\n",
    "    df['fuel_perc_change']= df.apply(fuel_percentage, axis=1)\n",
    "    \n",
    "    #Just to fill in the table (forward+some calculation)\n",
    "\n",
    "    df['fuel_perc_change']=df.sort_values(['id', 'trip_id', 'timestamp', 'fuel_seq'])\\\n",
    "                                .groupby(['id', 'trip_id', 'fuel_seq'])['fuel_perc_change'].cumsum()\n",
    "    df['fuel_spent%_per_time_spent']= df['fuel_%_per_timespent'].apply(lambda x: x if x>=0 else np.nan)\n",
    "    df['fuel_spent%_per_time_spent']= df.groupby('id')['fuel_spent%_per_time_spent'].fillna(method='ffill')\n",
    "    df['spent_fuel%'] = df['fuel_spent%_per_time_spent']*df['timespent']\n",
    "    df['spent_fuel%']=df['spent_fuel%'].shift(1)\n",
    "    df['spent_fuel%']=df['spent_fuel%'].fillna(0)\n",
    "    df['delta_fuel']=df['delta_fuel'].fillna(0)\n",
    "    #df.replace([np.inf, -np.inf], np.nan, inplace=True)\n",
    "    \n",
    "    return df\n",
    "    "
   ]
  },
  {
   "cell_type": "code",
   "execution_count": 64,
   "id": "73df5962",
   "metadata": {},
   "outputs": [],
   "source": [
    "test = fuel_cleaning(sample1)\n",
    "\n",
    "proved_fuel_spent = test.loc[test.delta_fuel >= 0].groupby(['id', 'trip_id', 'delta_fuel', 'fuel_seq'], \\\n",
    "                                                                  as_index=False)['fuel_perc_change'].count()\n",
    "proved_fuel_spent= proved_fuel_spent.groupby(['id', 'trip_id'], as_index=False)['delta_fuel'].sum()\n",
    "\n",
    "proved_fuel_refill =  test.loc[test.delta_fuel < 0].groupby(['id', 'trip_id', 'delta_fuel', 'fuel_seq'], as_index=False)['fuel_perc_change'].count()\n",
    "proved_fuel_refill =  proved_fuel_refill.groupby(['id', 'trip_id'], as_index=False).agg({'delta_fuel': 'sum', 'fuel_seq': 'count'})\n",
    "proved_fuel_refill['delta_fuel'] = proved_fuel_refill['delta_fuel']*-1"
   ]
  },
  {
   "cell_type": "code",
   "execution_count": 65,
   "id": "3dc25a1b",
   "metadata": {},
   "outputs": [
    {
     "data": {
      "text/html": [
       "<div>\n",
       "<style scoped>\n",
       "    .dataframe tbody tr th:only-of-type {\n",
       "        vertical-align: middle;\n",
       "    }\n",
       "\n",
       "    .dataframe tbody tr th {\n",
       "        vertical-align: top;\n",
       "    }\n",
       "\n",
       "    .dataframe thead th {\n",
       "        text-align: right;\n",
       "    }\n",
       "</style>\n",
       "<table border=\"1\" class=\"dataframe\">\n",
       "  <thead>\n",
       "    <tr style=\"text-align: right;\">\n",
       "      <th></th>\n",
       "      <th>id</th>\n",
       "      <th>trip_id</th>\n",
       "      <th>delta_fuel</th>\n",
       "      <th>fuel_seq</th>\n",
       "    </tr>\n",
       "  </thead>\n",
       "  <tbody>\n",
       "    <tr>\n",
       "      <th>0</th>\n",
       "      <td>334455</td>\n",
       "      <td>1</td>\n",
       "      <td>60.0</td>\n",
       "      <td>1</td>\n",
       "    </tr>\n",
       "    <tr>\n",
       "      <th>1</th>\n",
       "      <td>334456</td>\n",
       "      <td>1</td>\n",
       "      <td>148.0</td>\n",
       "      <td>5</td>\n",
       "    </tr>\n",
       "    <tr>\n",
       "      <th>2</th>\n",
       "      <td>334457</td>\n",
       "      <td>1</td>\n",
       "      <td>60.0</td>\n",
       "      <td>1</td>\n",
       "    </tr>\n",
       "    <tr>\n",
       "      <th>3</th>\n",
       "      <td>334457</td>\n",
       "      <td>2</td>\n",
       "      <td>188.0</td>\n",
       "      <td>2</td>\n",
       "    </tr>\n",
       "    <tr>\n",
       "      <th>4</th>\n",
       "      <td>334458</td>\n",
       "      <td>1</td>\n",
       "      <td>60.0</td>\n",
       "      <td>1</td>\n",
       "    </tr>\n",
       "    <tr>\n",
       "      <th>5</th>\n",
       "      <td>334459</td>\n",
       "      <td>2</td>\n",
       "      <td>81.0</td>\n",
       "      <td>1</td>\n",
       "    </tr>\n",
       "  </tbody>\n",
       "</table>\n",
       "</div>"
      ],
      "text/plain": [
       "       id  trip_id  delta_fuel  fuel_seq\n",
       "0  334455        1        60.0         1\n",
       "1  334456        1       148.0         5\n",
       "2  334457        1        60.0         1\n",
       "3  334457        2       188.0         2\n",
       "4  334458        1        60.0         1\n",
       "5  334459        2        81.0         1"
      ]
     },
     "execution_count": 65,
     "metadata": {},
     "output_type": "execute_result"
    }
   ],
   "source": [
    "proved_fuel_refill"
   ]
  },
  {
   "cell_type": "code",
   "execution_count": 66,
   "id": "cce30528",
   "metadata": {},
   "outputs": [],
   "source": [
    "test['first_location'] = test.groupby(['id', 'trip_id'])['current_loc'].transform('first')"
   ]
  },
  {
   "cell_type": "code",
   "execution_count": 67,
   "id": "1e4c8776",
   "metadata": {},
   "outputs": [],
   "source": [
    "def distance_between_first_and_last(df):\n",
    "    dst = 0\n",
    "    try:\n",
    "        dst = distance.distance(df['current_loc'] , df['first_location']).m\n",
    "    except ValueError: \n",
    "        print(\"GeoData isn't correct\")\n",
    "    return dst "
   ]
  },
  {
   "cell_type": "code",
   "execution_count": 68,
   "id": "d141fe56",
   "metadata": {},
   "outputs": [
    {
     "name": "stderr",
     "output_type": "stream",
     "text": [
      "C:\\Users\\Yevhen\\AppData\\Roaming\\Python\\Python311\\site-packages\\geopy\\point.py:472: UserWarning: Latitude normalization has been prohibited in the newer versions of geopy, because the normalized value happened to be on a different pole, which is probably not what was meant. If you pass coordinates as positional args, please make sure that the order is (latitude, longitude) or (y, x) in Cartesian terms.\n",
      "  return cls(*args)\n"
     ]
    },
    {
     "name": "stdout",
     "output_type": "stream",
     "text": [
      "GeoData isn't correct\n",
      "GeoData isn't correct\n",
      "GeoData isn't correct\n"
     ]
    }
   ],
   "source": [
    "test['max_distance_a'] = test.apply(distance_between_first_and_last, axis=1)"
   ]
  },
  {
   "cell_type": "code",
   "execution_count": 69,
   "id": "00d2dc68",
   "metadata": {},
   "outputs": [],
   "source": [
    "farpoints = test.groupby(['id', 'trip_id'], as_index=False)['max_distance_a'].max()\n",
    "farpoints = farpoints.merge(test, left_on=['id', 'trip_id', 'max_distance_a'], \n",
    "                             right_on=['id', 'trip_id', 'max_distance_a'])[['id', 'trip_id', \n",
    "                                                                            'max_distance_a', 'current_loc', 'timestamp']]\n",
    "farpoints.drop_duplicates(subset = ['id', 'trip_id', 'max_distance_a'], inplace=True)\n"
   ]
  },
  {
   "cell_type": "code",
   "execution_count": 70,
   "id": "6e2098f4",
   "metadata": {},
   "outputs": [],
   "source": [
    "last_points = test.groupby(['id', 'trip_id'], as_index=False)['timestamp'].max()\n",
    "last_points = last_points.merge(test, left_on=['id', 'trip_id', 'timestamp'], \n",
    "                             right_on=['id', 'trip_id', 'timestamp'])[['id', 'trip_id', \n",
    "                                                                       'max_distance_a', 'current_loc', 'timestamp']]\n"
   ]
  },
  {
   "cell_type": "code",
   "execution_count": 71,
   "id": "90057484",
   "metadata": {},
   "outputs": [],
   "source": [
    "last_points.rename(columns = {'max_distance_a': 'distination_distance_m', 'current_loc':'destination', 'timestamp': 'finish'},\n",
    "                  inplace=True)\n",
    "farpoints.rename(columns={'max_distance_a': 'farest_point_m', 'current_loc':'farest_geo', 'timestamp': 'time_reached'}, \n",
    "                inplace=True)"
   ]
  },
  {
   "cell_type": "code",
   "execution_count": 72,
   "id": "01eadc54",
   "metadata": {},
   "outputs": [],
   "source": [
    "points=farpoints.merge(last_points, on=['id', 'trip_id'])\n",
    "points.drop_duplicates(subset=['id','trip_id'], inplace = True)"
   ]
  },
  {
   "cell_type": "code",
   "execution_count": 73,
   "id": "b129529f",
   "metadata": {},
   "outputs": [],
   "source": [
    "test= test[['id', 'trip_id', 'timestamp', 'timespent', 'speed', 'distance',\n",
    "           'avg_od_speed', 'gps_speed', 'spent_fuel%', 'first_location']]\n",
    "\n",
    "test.columns = ['id', 'trip_id', 'timestamp', 'timespent_s', 'speed_m_s', 'distance_m', 'avg_od_speed_m_s', 'gps_speed_m_s', \n",
    "               'spent_fuel%', 'first_location']"
   ]
  },
  {
   "cell_type": "code",
   "execution_count": 74,
   "id": "c7349ad8",
   "metadata": {},
   "outputs": [],
   "source": [
    "test['timespent_s']=test['timespent_s'].fillna(0)\n",
    "test['timespent_s']=test['timespent_s'].apply(int)\n",
    "test['speed_m_s'] = test['speed_m_s'].apply(lambda x: round(x, 2))\n",
    "test['distance_m']  = test['distance_m'].apply(int)\n",
    "test['avg_od_speed_m_s'] = test['avg_od_speed_m_s'].apply(lambda x: round(x, 2))\n",
    "test['gps_speed_m_s'] = test['gps_speed_m_s'].apply(lambda x: round(x,2))\n",
    "test['spent_fuel%'] = test['spent_fuel%'].apply(lambda x: round(x,2))"
   ]
  },
  {
   "cell_type": "code",
   "execution_count": 75,
   "id": "4236b8fd",
   "metadata": {},
   "outputs": [],
   "source": [
    "##This table is ready. \n",
    "test.to_csv('Outputs/final_table_of_facts.csv')"
   ]
  },
  {
   "cell_type": "code",
   "execution_count": 76,
   "id": "5131b1d4",
   "metadata": {},
   "outputs": [],
   "source": [
    "##Dimension tables as well: \n",
    "accounts.to_csv('Outputs/accounts_clear.csv')\n",
    "assets.to_csv('Outputs/assets_clear.csv')"
   ]
  },
  {
   "cell_type": "markdown",
   "id": "aa112508",
   "metadata": {},
   "source": [
    "## Final! Aggregation: "
   ]
  },
  {
   "cell_type": "code",
   "execution_count": 77,
   "id": "6a537a56",
   "metadata": {},
   "outputs": [],
   "source": [
    "##Trips level_first: \n",
    "trips_table=test.groupby(['id', 'trip_id'], as_index=False).agg(start_trip=('timestamp', 'min'),  end_trip=('timestamp', 'max'), \n",
    "                                                duration_s=('timespent_s', 'sum'), total_distance_m=('distance_m', 'sum'), \n",
    "                                                median_od_speed_m_s=('avg_od_speed_m_s', 'median'), \n",
    "                                                median_gps_speed_m_s=('gps_speed_m_s', 'median'),\n",
    "                                                cumulative_fuel_spent_assump_pc=('spent_fuel%', 'sum'), \n",
    "                                                starting_point=('first_location', 'min')\n",
    "                                          )"
   ]
  },
  {
   "cell_type": "code",
   "execution_count": 78,
   "id": "05aad1de",
   "metadata": {},
   "outputs": [],
   "source": [
    "trips_table['start_date']=trips_table['start_trip'].dt.date"
   ]
  },
  {
   "cell_type": "code",
   "execution_count": 79,
   "id": "798b607f",
   "metadata": {},
   "outputs": [],
   "source": [
    "trips_table=trips_table.merge(proved_fuel_spent, on=['id', 'trip_id'], how='left')\n",
    "trips_table.rename(columns={'delta_fuel':'fuel_spent_%'}, inplace=True)"
   ]
  },
  {
   "cell_type": "code",
   "execution_count": 80,
   "id": "0d12c680",
   "metadata": {},
   "outputs": [],
   "source": [
    "trips_table=trips_table.merge(proved_fuel_refill, on=['id', 'trip_id'], how='left')"
   ]
  },
  {
   "cell_type": "code",
   "execution_count": 81,
   "id": "b2a9d343",
   "metadata": {},
   "outputs": [],
   "source": [
    "trips_table[['fuel_spent_%','delta_fuel','fuel_seq']]=trips_table[['fuel_spent_%','delta_fuel','fuel_seq']].fillna(0)\n",
    "trips_table['fuel_spent_%']=trips_table['fuel_spent_%'].apply(int)\n",
    "trips_table['delta_fuel']= trips_table['delta_fuel'].apply(int)\n",
    "trips_table['fuel_seq']=trips_table['fuel_seq'].apply(int)"
   ]
  },
  {
   "cell_type": "code",
   "execution_count": 82,
   "id": "09c3ac94",
   "metadata": {},
   "outputs": [],
   "source": [
    "#quick check of 4 refills during trip #1 with id = 334456"
   ]
  },
  {
   "cell_type": "code",
   "execution_count": 83,
   "id": "6a93ad8a",
   "metadata": {},
   "outputs": [],
   "source": [
    "check=fuel_cleaning(sample1)\n",
    "check = check.loc[(check.id == 334456) &(check.trip_id==1)]\n",
    "check = check[['id', 'trip_id', 'timestamp', 'fuel_%']]"
   ]
  },
  {
   "cell_type": "code",
   "execution_count": 84,
   "id": "7c87ed9a",
   "metadata": {},
   "outputs": [],
   "source": [
    "check['refill']=check.sort_values('timestamp')['fuel_%'].transform(lambda x: x - x.shift(1))"
   ]
  },
  {
   "cell_type": "code",
   "execution_count": 85,
   "id": "232a245a",
   "metadata": {},
   "outputs": [
    {
     "data": {
      "text/html": [
       "<div>\n",
       "<style scoped>\n",
       "    .dataframe tbody tr th:only-of-type {\n",
       "        vertical-align: middle;\n",
       "    }\n",
       "\n",
       "    .dataframe tbody tr th {\n",
       "        vertical-align: top;\n",
       "    }\n",
       "\n",
       "    .dataframe thead th {\n",
       "        text-align: right;\n",
       "    }\n",
       "</style>\n",
       "<table border=\"1\" class=\"dataframe\">\n",
       "  <thead>\n",
       "    <tr style=\"text-align: right;\">\n",
       "      <th></th>\n",
       "      <th>id</th>\n",
       "      <th>trip_id</th>\n",
       "      <th>timestamp</th>\n",
       "      <th>fuel_%</th>\n",
       "      <th>refill</th>\n",
       "    </tr>\n",
       "  </thead>\n",
       "  <tbody>\n",
       "    <tr>\n",
       "      <th>282</th>\n",
       "      <td>334456</td>\n",
       "      <td>1</td>\n",
       "      <td>2024-01-04 11:58:27</td>\n",
       "      <td>90.0</td>\n",
       "      <td>69.0</td>\n",
       "    </tr>\n",
       "    <tr>\n",
       "      <th>311</th>\n",
       "      <td>334456</td>\n",
       "      <td>1</td>\n",
       "      <td>2024-01-04 12:37:27</td>\n",
       "      <td>63.0</td>\n",
       "      <td>1.0</td>\n",
       "    </tr>\n",
       "    <tr>\n",
       "      <th>325</th>\n",
       "      <td>334456</td>\n",
       "      <td>1</td>\n",
       "      <td>2024-01-04 12:53:42</td>\n",
       "      <td>51.0</td>\n",
       "      <td>1.0</td>\n",
       "    </tr>\n",
       "    <tr>\n",
       "      <th>353</th>\n",
       "      <td>334456</td>\n",
       "      <td>1</td>\n",
       "      <td>2024-01-04 14:30:00</td>\n",
       "      <td>100.0</td>\n",
       "      <td>76.0</td>\n",
       "    </tr>\n",
       "    <tr>\n",
       "      <th>419</th>\n",
       "      <td>334456</td>\n",
       "      <td>1</td>\n",
       "      <td>2024-01-04 15:31:38</td>\n",
       "      <td>36.0</td>\n",
       "      <td>1.0</td>\n",
       "    </tr>\n",
       "  </tbody>\n",
       "</table>\n",
       "</div>"
      ],
      "text/plain": [
       "         id  trip_id           timestamp  fuel_%  refill\n",
       "282  334456        1 2024-01-04 11:58:27    90.0    69.0\n",
       "311  334456        1 2024-01-04 12:37:27    63.0     1.0\n",
       "325  334456        1 2024-01-04 12:53:42    51.0     1.0\n",
       "353  334456        1 2024-01-04 14:30:00   100.0    76.0\n",
       "419  334456        1 2024-01-04 15:31:38    36.0     1.0"
      ]
     },
     "execution_count": 85,
     "metadata": {},
     "output_type": "execute_result"
    }
   ],
   "source": [
    "check.loc[check.refill>0]#okaaaay, so 3 times it was a change by 1%. Let's manually (is this still script though? But just once doesn't count...) just fix that."
   ]
  },
  {
   "cell_type": "code",
   "execution_count": 86,
   "id": "a79f8a5c",
   "metadata": {},
   "outputs": [],
   "source": [
    "trips_table.loc[(trips_table.id == 334456) & (trips_table.trip_id)==1, 'fuel_seq'] = trips_table.loc[(trips_table.id == 334456) & (trips_table.trip_id)==1, 'fuel_seq'] -3\n",
    "trips_table.loc[(trips_table.id == 334456) & (trips_table.trip_id)==1, 'delta_fuel'] = trips_table.loc[(trips_table.id == 334456) & (trips_table.trip_id)==1, 'delta_fuel'] -3"
   ]
  },
  {
   "cell_type": "code",
   "execution_count": 87,
   "id": "74a5b369",
   "metadata": {},
   "outputs": [
    {
     "data": {
      "text/html": [
       "<div>\n",
       "<style scoped>\n",
       "    .dataframe tbody tr th:only-of-type {\n",
       "        vertical-align: middle;\n",
       "    }\n",
       "\n",
       "    .dataframe tbody tr th {\n",
       "        vertical-align: top;\n",
       "    }\n",
       "\n",
       "    .dataframe thead th {\n",
       "        text-align: right;\n",
       "    }\n",
       "</style>\n",
       "<table border=\"1\" class=\"dataframe\">\n",
       "  <thead>\n",
       "    <tr style=\"text-align: right;\">\n",
       "      <th></th>\n",
       "      <th>id</th>\n",
       "      <th>trip_id</th>\n",
       "      <th>farest_point_m</th>\n",
       "      <th>farest_geo</th>\n",
       "      <th>time_reached</th>\n",
       "      <th>distination_distance_m</th>\n",
       "      <th>destination</th>\n",
       "      <th>finish</th>\n",
       "    </tr>\n",
       "  </thead>\n",
       "  <tbody>\n",
       "    <tr>\n",
       "      <th>0</th>\n",
       "      <td>334455</td>\n",
       "      <td>1</td>\n",
       "      <td>186656.627296</td>\n",
       "      <td>(53.275578, -9.074217)</td>\n",
       "      <td>2024-01-01 19:53:00</td>\n",
       "      <td>186656.627296</td>\n",
       "      <td>(53.275578, -9.074217)</td>\n",
       "      <td>2024-01-01 19:53:00</td>\n",
       "    </tr>\n",
       "    <tr>\n",
       "      <th>1</th>\n",
       "      <td>334455</td>\n",
       "      <td>2</td>\n",
       "      <td>186656.627296</td>\n",
       "      <td>(53.332025, -6.275705)</td>\n",
       "      <td>2024-01-02 10:28:00</td>\n",
       "      <td>186656.627296</td>\n",
       "      <td>(53.332025, -6.275705)</td>\n",
       "      <td>2024-01-02 10:28:00</td>\n",
       "    </tr>\n",
       "    <tr>\n",
       "      <th>2</th>\n",
       "      <td>334456</td>\n",
       "      <td>1</td>\n",
       "      <td>222725.499354</td>\n",
       "      <td>(52.241316, -7.161516)</td>\n",
       "      <td>2024-01-04 13:31:03</td>\n",
       "      <td>0.000000</td>\n",
       "      <td>(54.098194, -8.4042)</td>\n",
       "      <td>2024-01-04 16:02:11</td>\n",
       "    </tr>\n",
       "    <tr>\n",
       "      <th>3</th>\n",
       "      <td>334457</td>\n",
       "      <td>1</td>\n",
       "      <td>252319.167553</td>\n",
       "      <td>(51.883981, -9.582074)</td>\n",
       "      <td>2024-01-01 14:31:32</td>\n",
       "      <td>252319.167553</td>\n",
       "      <td>(51.883981, -9.582074)</td>\n",
       "      <td>2024-01-01 14:31:32</td>\n",
       "    </tr>\n",
       "    <tr>\n",
       "      <th>4</th>\n",
       "      <td>334457</td>\n",
       "      <td>2</td>\n",
       "      <td>230383.566381</td>\n",
       "      <td>(54.198514, -9.925246)</td>\n",
       "      <td>2024-01-02 14:21:48</td>\n",
       "      <td>0.000000</td>\n",
       "      <td>(53.969733, -6.426101)</td>\n",
       "      <td>2024-01-02 17:02:16</td>\n",
       "    </tr>\n",
       "    <tr>\n",
       "      <th>5</th>\n",
       "      <td>334458</td>\n",
       "      <td>1</td>\n",
       "      <td>235464.401183</td>\n",
       "      <td>(52.473127, -1.852234)</td>\n",
       "      <td>2024-01-01 19:53:00</td>\n",
       "      <td>235464.401183</td>\n",
       "      <td>(52.473127, -1.852234)</td>\n",
       "      <td>2024-01-01 19:53:00</td>\n",
       "    </tr>\n",
       "    <tr>\n",
       "      <th>6</th>\n",
       "      <td>334458</td>\n",
       "      <td>2</td>\n",
       "      <td>235464.401183</td>\n",
       "      <td>(54.555905, -1.228622)</td>\n",
       "      <td>2024-01-02 10:28:00</td>\n",
       "      <td>160616.400501</td>\n",
       "      <td>(51.500926, -0.123827)</td>\n",
       "      <td>2024-01-02 12:08:36</td>\n",
       "    </tr>\n",
       "    <tr>\n",
       "      <th>7</th>\n",
       "      <td>334459</td>\n",
       "      <td>1</td>\n",
       "      <td>374115.015207</td>\n",
       "      <td>(50.106324, 8.7282)</td>\n",
       "      <td>2024-01-05 15:28:48</td>\n",
       "      <td>374115.015207</td>\n",
       "      <td>(50.106324, 8.7282)</td>\n",
       "      <td>2024-01-05 15:28:48</td>\n",
       "    </tr>\n",
       "    <tr>\n",
       "      <th>8</th>\n",
       "      <td>334459</td>\n",
       "      <td>2</td>\n",
       "      <td>374115.015207</td>\n",
       "      <td>(52.052579, 4.372771)</td>\n",
       "      <td>2024-01-06 18:05:37</td>\n",
       "      <td>374115.015207</td>\n",
       "      <td>(52.052579, 4.372771)</td>\n",
       "      <td>2024-01-06 18:05:37</td>\n",
       "    </tr>\n",
       "    <tr>\n",
       "      <th>9</th>\n",
       "      <td>334459</td>\n",
       "      <td>3</td>\n",
       "      <td>374115.015207</td>\n",
       "      <td>(50.106324, 8.7282)</td>\n",
       "      <td>2024-01-07 19:05:57</td>\n",
       "      <td>374115.015207</td>\n",
       "      <td>(50.106324, 8.7282)</td>\n",
       "      <td>2024-01-07 19:05:57</td>\n",
       "    </tr>\n",
       "  </tbody>\n",
       "</table>\n",
       "</div>"
      ],
      "text/plain": [
       "       id  trip_id  farest_point_m              farest_geo  \\\n",
       "0  334455        1   186656.627296  (53.275578, -9.074217)   \n",
       "1  334455        2   186656.627296  (53.332025, -6.275705)   \n",
       "2  334456        1   222725.499354  (52.241316, -7.161516)   \n",
       "3  334457        1   252319.167553  (51.883981, -9.582074)   \n",
       "4  334457        2   230383.566381  (54.198514, -9.925246)   \n",
       "5  334458        1   235464.401183  (52.473127, -1.852234)   \n",
       "6  334458        2   235464.401183  (54.555905, -1.228622)   \n",
       "7  334459        1   374115.015207     (50.106324, 8.7282)   \n",
       "8  334459        2   374115.015207   (52.052579, 4.372771)   \n",
       "9  334459        3   374115.015207     (50.106324, 8.7282)   \n",
       "\n",
       "         time_reached  distination_distance_m             destination  \\\n",
       "0 2024-01-01 19:53:00           186656.627296  (53.275578, -9.074217)   \n",
       "1 2024-01-02 10:28:00           186656.627296  (53.332025, -6.275705)   \n",
       "2 2024-01-04 13:31:03                0.000000    (54.098194, -8.4042)   \n",
       "3 2024-01-01 14:31:32           252319.167553  (51.883981, -9.582074)   \n",
       "4 2024-01-02 14:21:48                0.000000  (53.969733, -6.426101)   \n",
       "5 2024-01-01 19:53:00           235464.401183  (52.473127, -1.852234)   \n",
       "6 2024-01-02 10:28:00           160616.400501  (51.500926, -0.123827)   \n",
       "7 2024-01-05 15:28:48           374115.015207     (50.106324, 8.7282)   \n",
       "8 2024-01-06 18:05:37           374115.015207   (52.052579, 4.372771)   \n",
       "9 2024-01-07 19:05:57           374115.015207     (50.106324, 8.7282)   \n",
       "\n",
       "               finish  \n",
       "0 2024-01-01 19:53:00  \n",
       "1 2024-01-02 10:28:00  \n",
       "2 2024-01-04 16:02:11  \n",
       "3 2024-01-01 14:31:32  \n",
       "4 2024-01-02 17:02:16  \n",
       "5 2024-01-01 19:53:00  \n",
       "6 2024-01-02 12:08:36  \n",
       "7 2024-01-05 15:28:48  \n",
       "8 2024-01-06 18:05:37  \n",
       "9 2024-01-07 19:05:57  "
      ]
     },
     "execution_count": 87,
     "metadata": {},
     "output_type": "execute_result"
    }
   ],
   "source": [
    "points"
   ]
  },
  {
   "cell_type": "code",
   "execution_count": 88,
   "id": "dd89a107",
   "metadata": {},
   "outputs": [],
   "source": [
    "trips_table.rename(columns={'delta_fuel': 'refueled_%', 'fuel_seq':'refuiled_times'}, inplace=True)\n",
    "trips_table = trips_table.merge(points, on =['id', 'trip_id'], how='left' )[['id', 'trip_id', 'start_trip', 'end_trip', 'duration_s',\n",
    "       'total_distance_m', 'median_od_speed_m_s', 'median_gps_speed_m_s',\n",
    "       'cumulative_fuel_spent_assump_pc', 'starting_point', 'start_date',\n",
    "       'fuel_spent_%', 'refueled_%', 'refuiled_times', 'farest_point_m', 'farest_geo', 'time_reached',\n",
    "       'distination_distance_m', 'destination' ]]"
   ]
  },
  {
   "cell_type": "code",
   "execution_count": 89,
   "id": "86b075cd",
   "metadata": {},
   "outputs": [
    {
     "data": {
      "text/plain": [
       "Index(['id', 'trip_id', 'start_trip', 'end_trip', 'duration_s',\n",
       "       'total_distance_m', 'median_od_speed_m_s', 'median_gps_speed_m_s',\n",
       "       'cumulative_fuel_spent_assump_pc', 'starting_point', 'start_date',\n",
       "       'fuel_spent_%', 'refueled_%', 'refuiled_times', 'farest_point_m',\n",
       "       'farest_geo', 'time_reached', 'distination_distance_m', 'destination'],\n",
       "      dtype='object')"
      ]
     },
     "execution_count": 89,
     "metadata": {},
     "output_type": "execute_result"
    }
   ],
   "source": [
    "trips_table.columns"
   ]
  },
  {
   "cell_type": "code",
   "execution_count": 90,
   "id": "776c4999",
   "metadata": {},
   "outputs": [],
   "source": [
    "###Let's convert some types\n",
    "#m/s to km/h\n",
    "kmh= 3600/1000\n",
    "km = 1000\n",
    "\n",
    "trips_table['duration'] = trips_table.duration_s.apply(lambda x: str(timedelta(seconds=x)))\n",
    "trips_table.total_distance_m = trips_table.total_distance_m / km \n",
    "trips_table.total_distance_m = trips_table.total_distance_m.apply(math.floor)\n",
    "trips_table.total_distance_m = trips_table.total_distance_m.apply(int)\n",
    "trips_table.median_od_speed_m_s = trips_table.median_od_speed_m_s * kmh\n",
    "trips_table.median_gps_speed_m_s = trips_table.median_gps_speed_m_s * kmh\n",
    "trips_table.farest_point_m = (trips_table.farest_point_m / km)\n",
    "trips_table.distination_distance_m = (trips_table.distination_distance_m / km)\n",
    "trips_table.farest_point_m = trips_table.farest_point_m.apply(math.floor)\n",
    "trips_table.distination_distance_m = trips_table.distination_distance_m.apply(math.floor)\n",
    "trips_table.farest_point_m = trips_table.farest_point_m.apply(int)\n",
    "trips_table.distination_distance_m = trips_table.distination_distance_m.apply(int)\n",
    "trips_table.median_od_speed_m_s = trips_table.median_od_speed_m_s.apply(int)\n",
    "trips_table.median_gps_speed_m_s = trips_table.median_gps_speed_m_s.apply(int)\n"
   ]
  },
  {
   "cell_type": "code",
   "execution_count": 91,
   "id": "1f49b362",
   "metadata": {},
   "outputs": [
    {
     "data": {
      "text/plain": [
       "Index(['id', 'trip_id', 'start_trip', 'end_trip', 'duration_s',\n",
       "       'total_distance_m', 'median_od_speed_m_s', 'median_gps_speed_m_s',\n",
       "       'cumulative_fuel_spent_assump_pc', 'starting_point', 'start_date',\n",
       "       'fuel_spent_%', 'refueled_%', 'refuiled_times', 'farest_point_m',\n",
       "       'farest_geo', 'time_reached', 'distination_distance_m', 'destination',\n",
       "       'duration'],\n",
       "      dtype='object')"
      ]
     },
     "execution_count": 91,
     "metadata": {},
     "output_type": "execute_result"
    }
   ],
   "source": [
    "trips_table.columns"
   ]
  },
  {
   "cell_type": "code",
   "execution_count": null,
   "id": "c57fbb4e",
   "metadata": {},
   "outputs": [],
   "source": []
  },
  {
   "cell_type": "code",
   "execution_count": 92,
   "id": "68b60535",
   "metadata": {},
   "outputs": [],
   "source": [
    "trips_table.columns= ['id', 'trip_id', 'start_time', 'end_time', 'duration_s', 'total_distance_km', 'median_odometer_speed',\n",
    "                     'median_gps_speed', 'fuel_spent_calc_%', 'start_point', 'start_date', 'fuel_spent_%', 'refueled_%', \n",
    "                      'refuiled_times', 'farest_point', 'farest_geo', 'time_reached', 'destination_distance', 'destination',\n",
    "                      'duration']\n",
    "trips_table['C'] = trips_table.apply(lambda x: x['destination'] if x['destination_distance']<x['farest_point']\\\n",
    "                                     else np.nan, axis=1)"
   ]
  },
  {
   "cell_type": "code",
   "execution_count": 93,
   "id": "638754d5",
   "metadata": {},
   "outputs": [
    {
     "name": "stdout",
     "output_type": "stream",
     "text": [
      "Not a location\n",
      "Not a location\n",
      "Not a location\n",
      "Not a location\n",
      "Not a location\n",
      "Not a location\n",
      "Not a location\n"
     ]
    }
   ],
   "source": [
    "def city_by_geo(df_col):\n",
    "    try: \n",
    "        geolocator = Nominatim(user_agent=\"extractorAPI\")\n",
    "        location = geolocator.reverse(df_col)\n",
    "        geo= location.raw['address'].get('country','')+' || '+ location.raw['address'].get('city', '')\n",
    "        return geo\n",
    "    except: \n",
    "        print('Not a location')\n",
    "\n",
    "\n",
    "\n",
    "trips_table['A_geo'] = trips_table['start_point'].apply(city_by_geo)\n",
    "trips_table['B_geo'] = trips_table['farest_geo'].apply(city_by_geo)\n",
    "trips_table['C_geo'] = trips_table['C'].apply(city_by_geo)\n"
   ]
  },
  {
   "cell_type": "code",
   "execution_count": 94,
   "id": "7f958f6c",
   "metadata": {},
   "outputs": [],
   "source": [
    "trips_table= trips_table[['id','trip_id', 'start_date','start_time', 'end_time','duration','duration_s','A_geo',\n",
    "       'B_geo', 'C_geo', 'start_point', 'farest_geo',  'C', 'total_distance_km', 'median_odometer_speed', 'median_gps_speed',\n",
    "       'fuel_spent_calc_%','fuel_spent_%','refueled_%', 'refuiled_times']]\n",
    "\n",
    "trips_table.rename(columns={'farest_geo' : 'B', 'start_point': 'A'}, inplace=True)"
   ]
  },
  {
   "cell_type": "code",
   "execution_count": 95,
   "id": "f0d73f01",
   "metadata": {},
   "outputs": [],
   "source": [
    "trips_long=trips_table.merge(assets, left_on=['id'], right_on=['data_source']).copy()\n",
    "trips_long=trips_long.merge(accounts, on = ['account_id'])"
   ]
  },
  {
   "cell_type": "code",
   "execution_count": 96,
   "id": "845a9c3e",
   "metadata": {},
   "outputs": [],
   "source": [
    "trips_long=trips_long[['account_name', 'license_plate', 'maker_fixed', 'model', 'tank_capacity','trip_id', 'start_date','start_time', 'end_time','duration', 'duration_s','A_geo',\n",
    "       'B_geo', 'C_geo', 'A', 'B',  'C', 'total_distance_km', 'median_odometer_speed', 'median_gps_speed',\n",
    "       'fuel_spent_calc_%','fuel_spent_%','refueled_%', 'refuiled_times' ]]"
   ]
  },
  {
   "cell_type": "code",
   "execution_count": 97,
   "id": "e68df55a",
   "metadata": {},
   "outputs": [],
   "source": [
    "trips_long['fuel_spent_calc_%']=trips_long['fuel_spent_calc_%']*trips_long['tank_capacity']/100\n",
    "trips_long['fuel_spent_%']=trips_long['fuel_spent_%']*trips_long['tank_capacity']/100\n",
    "trips_long['refueled_%']=trips_long['refueled_%']*trips_long['tank_capacity']/100\n",
    "\n",
    "trips_long.rename(columns = {'fuel_spent_calc_%': 'calc_fuel_spent', 'fuel_spent_%':'fact_fuel_spent',\\\n",
    "                             'refueled_%': 'refueld', 'total_distance_km':'total_distance'}, inplace=True)"
   ]
  },
  {
   "cell_type": "code",
   "execution_count": 98,
   "id": "58dbbf18",
   "metadata": {},
   "outputs": [],
   "source": [
    "trips_long.to_csv('Outputs/trips_table.csv')"
   ]
  },
  {
   "cell_type": "code",
   "execution_count": 99,
   "id": "eba8c96c",
   "metadata": {},
   "outputs": [
    {
     "data": {
      "text/plain": [
       "Index(['account_name', 'license_plate', 'maker_fixed', 'model',\n",
       "       'tank_capacity', 'trip_id', 'start_date', 'start_time', 'end_time',\n",
       "       'duration', 'duration_s', 'A_geo', 'B_geo', 'C_geo', 'A', 'B', 'C',\n",
       "       'total_distance', 'median_odometer_speed', 'median_gps_speed',\n",
       "       'calc_fuel_spent', 'fact_fuel_spent', 'refueld', 'refuiled_times'],\n",
       "      dtype='object')"
      ]
     },
     "execution_count": 99,
     "metadata": {},
     "output_type": "execute_result"
    }
   ],
   "source": [
    "trips_long.columns"
   ]
  },
  {
   "cell_type": "code",
   "execution_count": 100,
   "id": "3633a639",
   "metadata": {},
   "outputs": [],
   "source": [
    "####WOOOW, as there is no trips started in one day and lasted till another, I'll use this table mostly for aggregation \n",
    "daily_agg = trips_long.groupby(['start_date', 'account_name', 'license_plate', 'maker_fixed', 'model'], as_index=False).agg(\n",
    "                                                trips=('trip_id', 'count'),  duration = ('duration', 'sum'),\n",
    "                                                duration_s=('duration_s', 'sum'), \n",
    "                                                total_distance=('total_distance', 'sum'), \n",
    "                                                calc_fuel_spent =('calc_fuel_spent', 'sum'), \n",
    "                                                fact_fuel_spent=('fact_fuel_spent', 'sum'),\n",
    "                                                refueld=('refueld', 'sum'), refuiled_times=('refuiled_times', 'sum')\n",
    ")"
   ]
  },
  {
   "cell_type": "code",
   "execution_count": 102,
   "id": "c378224e",
   "metadata": {},
   "outputs": [],
   "source": [
    "daily_agg.to_csv('Outputs/daily_agg.csv')"
   ]
  },
  {
   "cell_type": "code",
   "execution_count": null,
   "id": "122d1167",
   "metadata": {},
   "outputs": [],
   "source": []
  },
  {
   "cell_type": "code",
   "execution_count": null,
   "id": "b0b73e4c",
   "metadata": {},
   "outputs": [],
   "source": []
  },
  {
   "cell_type": "code",
   "execution_count": null,
   "id": "dd85bf8b",
   "metadata": {},
   "outputs": [],
   "source": []
  },
  {
   "cell_type": "code",
   "execution_count": null,
   "id": "97cb9ccf",
   "metadata": {},
   "outputs": [],
   "source": []
  },
  {
   "cell_type": "code",
   "execution_count": null,
   "id": "50aafef9",
   "metadata": {},
   "outputs": [],
   "source": []
  }
 ],
 "metadata": {
  "kernelspec": {
   "display_name": "Python 3 (ipykernel)",
   "language": "python",
   "name": "python3"
  },
  "language_info": {
   "codemirror_mode": {
    "name": "ipython",
    "version": 3
   },
   "file_extension": ".py",
   "mimetype": "text/x-python",
   "name": "python",
   "nbconvert_exporter": "python",
   "pygments_lexer": "ipython3",
   "version": "3.11.5"
  }
 },
 "nbformat": 4,
 "nbformat_minor": 5
}
